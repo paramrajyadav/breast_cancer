{
 "cells": [
  {
   "cell_type": "markdown",
   "metadata": {
    "id": "X3wT8l6lfj--"
   },
   "source": [
    "**Importing the Dependencies**"
   ]
  },
  {
   "cell_type": "code",
   "execution_count": 1,
   "metadata": {},
   "outputs": [
    {
     "name": "stdout",
     "output_type": "stream",
     "text": [
      "Defaulting to user installation because normal site-packages is not writeable\n",
      "Requirement already satisfied: tensorflow in c:\\users\\simran sharma\\appdata\\roaming\\python\\python39\\site-packages (2.11.0)\n",
      "Requirement already satisfied: tensorflow-intel==2.11.0 in c:\\users\\simran sharma\\appdata\\roaming\\python\\python39\\site-packages (from tensorflow) (2.11.0)\n",
      "Requirement already satisfied: h5py>=2.9.0 in c:\\programdata\\anaconda3\\lib\\site-packages (from tensorflow-intel==2.11.0->tensorflow) (3.7.0)\n",
      "Requirement already satisfied: google-pasta>=0.1.1 in c:\\users\\simran sharma\\appdata\\roaming\\python\\python39\\site-packages (from tensorflow-intel==2.11.0->tensorflow) (0.2.0)\n",
      "Requirement already satisfied: grpcio<2.0,>=1.24.3 in c:\\users\\simran sharma\\appdata\\roaming\\python\\python39\\site-packages (from tensorflow-intel==2.11.0->tensorflow) (1.51.1)\n",
      "Requirement already satisfied: protobuf<3.20,>=3.9.2 in c:\\users\\simran sharma\\appdata\\roaming\\python\\python39\\site-packages (from tensorflow-intel==2.11.0->tensorflow) (3.19.6)\n",
      "Requirement already satisfied: flatbuffers>=2.0 in c:\\users\\simran sharma\\appdata\\roaming\\python\\python39\\site-packages (from tensorflow-intel==2.11.0->tensorflow) (23.1.21)\n",
      "Requirement already satisfied: opt-einsum>=2.3.2 in c:\\users\\simran sharma\\appdata\\roaming\\python\\python39\\site-packages (from tensorflow-intel==2.11.0->tensorflow) (3.3.0)\n",
      "Requirement already satisfied: setuptools in c:\\programdata\\anaconda3\\lib\\site-packages (from tensorflow-intel==2.11.0->tensorflow) (63.4.1)\n",
      "Requirement already satisfied: tensorflow-estimator<2.12,>=2.11.0 in c:\\users\\simran sharma\\appdata\\roaming\\python\\python39\\site-packages (from tensorflow-intel==2.11.0->tensorflow) (2.11.0)\n",
      "Requirement already satisfied: libclang>=13.0.0 in c:\\users\\simran sharma\\appdata\\roaming\\python\\python39\\site-packages (from tensorflow-intel==2.11.0->tensorflow) (15.0.6.1)\n",
      "Requirement already satisfied: keras<2.12,>=2.11.0 in c:\\users\\simran sharma\\appdata\\roaming\\python\\python39\\site-packages (from tensorflow-intel==2.11.0->tensorflow) (2.11.0)\n",
      "Requirement already satisfied: absl-py>=1.0.0 in c:\\users\\simran sharma\\appdata\\roaming\\python\\python39\\site-packages (from tensorflow-intel==2.11.0->tensorflow) (1.4.0)\n",
      "Requirement already satisfied: packaging in c:\\programdata\\anaconda3\\lib\\site-packages (from tensorflow-intel==2.11.0->tensorflow) (21.3)\n",
      "Requirement already satisfied: numpy>=1.20 in c:\\programdata\\anaconda3\\lib\\site-packages (from tensorflow-intel==2.11.0->tensorflow) (1.21.5)\n",
      "Requirement already satisfied: wrapt>=1.11.0 in c:\\programdata\\anaconda3\\lib\\site-packages (from tensorflow-intel==2.11.0->tensorflow) (1.14.1)\n",
      "Requirement already satisfied: gast<=0.4.0,>=0.2.1 in c:\\users\\simran sharma\\appdata\\roaming\\python\\python39\\site-packages (from tensorflow-intel==2.11.0->tensorflow) (0.4.0)\n",
      "Requirement already satisfied: astunparse>=1.6.0 in c:\\users\\simran sharma\\appdata\\roaming\\python\\python39\\site-packages (from tensorflow-intel==2.11.0->tensorflow) (1.6.3)\n",
      "Requirement already satisfied: termcolor>=1.1.0 in c:\\users\\simran sharma\\appdata\\roaming\\python\\python39\\site-packages (from tensorflow-intel==2.11.0->tensorflow) (2.2.0)\n",
      "Requirement already satisfied: tensorflow-io-gcs-filesystem>=0.23.1 in c:\\users\\simran sharma\\appdata\\roaming\\python\\python39\\site-packages (from tensorflow-intel==2.11.0->tensorflow) (0.30.0)\n",
      "Requirement already satisfied: typing-extensions>=3.6.6 in c:\\programdata\\anaconda3\\lib\\site-packages (from tensorflow-intel==2.11.0->tensorflow) (4.3.0)\n",
      "Requirement already satisfied: six>=1.12.0 in c:\\programdata\\anaconda3\\lib\\site-packages (from tensorflow-intel==2.11.0->tensorflow) (1.16.0)\n",
      "Requirement already satisfied: tensorboard<2.12,>=2.11 in c:\\users\\simran sharma\\appdata\\roaming\\python\\python39\\site-packages (from tensorflow-intel==2.11.0->tensorflow) (2.11.2)\n",
      "Requirement already satisfied: wheel<1.0,>=0.23.0 in c:\\programdata\\anaconda3\\lib\\site-packages (from astunparse>=1.6.0->tensorflow-intel==2.11.0->tensorflow) (0.37.1)\n",
      "Requirement already satisfied: werkzeug>=1.0.1 in c:\\programdata\\anaconda3\\lib\\site-packages (from tensorboard<2.12,>=2.11->tensorflow-intel==2.11.0->tensorflow) (2.0.3)\n",
      "Requirement already satisfied: markdown>=2.6.8 in c:\\programdata\\anaconda3\\lib\\site-packages (from tensorboard<2.12,>=2.11->tensorflow-intel==2.11.0->tensorflow) (3.3.4)\n",
      "Requirement already satisfied: google-auth<3,>=1.6.3 in c:\\users\\simran sharma\\appdata\\roaming\\python\\python39\\site-packages (from tensorboard<2.12,>=2.11->tensorflow-intel==2.11.0->tensorflow) (2.16.0)\n",
      "Requirement already satisfied: tensorboard-plugin-wit>=1.6.0 in c:\\users\\simran sharma\\appdata\\roaming\\python\\python39\\site-packages (from tensorboard<2.12,>=2.11->tensorflow-intel==2.11.0->tensorflow) (1.8.1)\n",
      "Requirement already satisfied: requests<3,>=2.21.0 in c:\\programdata\\anaconda3\\lib\\site-packages (from tensorboard<2.12,>=2.11->tensorflow-intel==2.11.0->tensorflow) (2.28.1)\n",
      "Requirement already satisfied: google-auth-oauthlib<0.5,>=0.4.1 in c:\\users\\simran sharma\\appdata\\roaming\\python\\python39\\site-packages (from tensorboard<2.12,>=2.11->tensorflow-intel==2.11.0->tensorflow) (0.4.6)\n",
      "Requirement already satisfied: tensorboard-data-server<0.7.0,>=0.6.0 in c:\\users\\simran sharma\\appdata\\roaming\\python\\python39\\site-packages (from tensorboard<2.12,>=2.11->tensorflow-intel==2.11.0->tensorflow) (0.6.1)\n",
      "Requirement already satisfied: pyparsing!=3.0.5,>=2.0.2 in c:\\programdata\\anaconda3\\lib\\site-packages (from packaging->tensorflow-intel==2.11.0->tensorflow) (3.0.9)\n",
      "Requirement already satisfied: pyasn1-modules>=0.2.1 in c:\\programdata\\anaconda3\\lib\\site-packages (from google-auth<3,>=1.6.3->tensorboard<2.12,>=2.11->tensorflow-intel==2.11.0->tensorflow) (0.2.8)\n",
      "Requirement already satisfied: cachetools<6.0,>=2.0.0 in c:\\users\\simran sharma\\appdata\\roaming\\python\\python39\\site-packages (from google-auth<3,>=1.6.3->tensorboard<2.12,>=2.11->tensorflow-intel==2.11.0->tensorflow) (5.3.0)\n",
      "Requirement already satisfied: rsa<5,>=3.1.4 in c:\\users\\simran sharma\\appdata\\roaming\\python\\python39\\site-packages (from google-auth<3,>=1.6.3->tensorboard<2.12,>=2.11->tensorflow-intel==2.11.0->tensorflow) (4.9)\n",
      "Requirement already satisfied: requests-oauthlib>=0.7.0 in c:\\users\\simran sharma\\appdata\\roaming\\python\\python39\\site-packages (from google-auth-oauthlib<0.5,>=0.4.1->tensorboard<2.12,>=2.11->tensorflow-intel==2.11.0->tensorflow) (1.3.1)\n",
      "Requirement already satisfied: urllib3<1.27,>=1.21.1 in c:\\programdata\\anaconda3\\lib\\site-packages (from requests<3,>=2.21.0->tensorboard<2.12,>=2.11->tensorflow-intel==2.11.0->tensorflow) (1.26.11)\n",
      "Requirement already satisfied: certifi>=2017.4.17 in c:\\programdata\\anaconda3\\lib\\site-packages (from requests<3,>=2.21.0->tensorboard<2.12,>=2.11->tensorflow-intel==2.11.0->tensorflow) (2022.9.14)\n",
      "Requirement already satisfied: charset-normalizer<3,>=2 in c:\\programdata\\anaconda3\\lib\\site-packages (from requests<3,>=2.21.0->tensorboard<2.12,>=2.11->tensorflow-intel==2.11.0->tensorflow) (2.0.4)\n",
      "Requirement already satisfied: idna<4,>=2.5 in c:\\programdata\\anaconda3\\lib\\site-packages (from requests<3,>=2.21.0->tensorboard<2.12,>=2.11->tensorflow-intel==2.11.0->tensorflow) (3.3)\n",
      "Requirement already satisfied: pyasn1<0.5.0,>=0.4.6 in c:\\programdata\\anaconda3\\lib\\site-packages (from pyasn1-modules>=0.2.1->google-auth<3,>=1.6.3->tensorboard<2.12,>=2.11->tensorflow-intel==2.11.0->tensorflow) (0.4.8)\n",
      "Requirement already satisfied: oauthlib>=3.0.0 in c:\\users\\simran sharma\\appdata\\roaming\\python\\python39\\site-packages (from requests-oauthlib>=0.7.0->google-auth-oauthlib<0.5,>=0.4.1->tensorboard<2.12,>=2.11->tensorflow-intel==2.11.0->tensorflow) (3.2.2)\n"
     ]
    }
   ],
   "source": [
    "!pip install tensorflow"
   ]
  },
  {
   "cell_type": "code",
   "execution_count": 2,
   "metadata": {
    "id": "XqsQmOXGXXTe"
   },
   "outputs": [],
   "source": [
    "import numpy as np\n",
    "import pandas as pd\n",
    "import matplotlib.pyplot as plt\n",
    "import sklearn.datasets\n",
    "from sklearn.model_selection import train_test_split\n",
    "from keras_tuner import RandomSearch"
   ]
  },
  {
   "cell_type": "markdown",
   "metadata": {
    "id": "pwJ9zLukg3Q_"
   },
   "source": [
    "Data Collection & Processing"
   ]
  },
  {
   "cell_type": "code",
   "execution_count": 3,
   "metadata": {
    "id": "j6bMZMKUgz7L"
   },
   "outputs": [],
   "source": [
    "ds=pd.read_csv(\"data.csv\")"
   ]
  },
  {
   "cell_type": "code",
   "execution_count": 4,
   "metadata": {
    "colab": {
     "base_uri": "https://localhost:8080/"
    },
    "id": "xdY6i73KgkDG",
    "outputId": "d9768866-9f0f-4db9-83ca-38161a5012ef"
   },
   "outputs": [
    {
     "name": "stdout",
     "output_type": "stream",
     "text": [
      "           id diagnosis  radius_mean  texture_mean  perimeter_mean  area_mean  \\\n",
      "0      842302         M        17.99         10.38          122.80     1001.0   \n",
      "1      842517         M        20.57         17.77          132.90     1326.0   \n",
      "2    84300903         M        19.69         21.25          130.00     1203.0   \n",
      "3    84348301         M        11.42         20.38           77.58      386.1   \n",
      "4    84358402         M        20.29         14.34          135.10     1297.0   \n",
      "..        ...       ...          ...           ...             ...        ...   \n",
      "564    926424         M        21.56         22.39          142.00     1479.0   \n",
      "565    926682         M        20.13         28.25          131.20     1261.0   \n",
      "566    926954         M        16.60         28.08          108.30      858.1   \n",
      "567    927241         M        20.60         29.33          140.10     1265.0   \n",
      "568     92751         B         7.76         24.54           47.92      181.0   \n",
      "\n",
      "     smoothness_mean  compactness_mean  concavity_mean  concave points_mean  \\\n",
      "0            0.11840           0.27760         0.30010              0.14710   \n",
      "1            0.08474           0.07864         0.08690              0.07017   \n",
      "2            0.10960           0.15990         0.19740              0.12790   \n",
      "3            0.14250           0.28390         0.24140              0.10520   \n",
      "4            0.10030           0.13280         0.19800              0.10430   \n",
      "..               ...               ...             ...                  ...   \n",
      "564          0.11100           0.11590         0.24390              0.13890   \n",
      "565          0.09780           0.10340         0.14400              0.09791   \n",
      "566          0.08455           0.10230         0.09251              0.05302   \n",
      "567          0.11780           0.27700         0.35140              0.15200   \n",
      "568          0.05263           0.04362         0.00000              0.00000   \n",
      "\n",
      "     ...  texture_worst  perimeter_worst  area_worst  smoothness_worst  \\\n",
      "0    ...          17.33           184.60      2019.0           0.16220   \n",
      "1    ...          23.41           158.80      1956.0           0.12380   \n",
      "2    ...          25.53           152.50      1709.0           0.14440   \n",
      "3    ...          26.50            98.87       567.7           0.20980   \n",
      "4    ...          16.67           152.20      1575.0           0.13740   \n",
      "..   ...            ...              ...         ...               ...   \n",
      "564  ...          26.40           166.10      2027.0           0.14100   \n",
      "565  ...          38.25           155.00      1731.0           0.11660   \n",
      "566  ...          34.12           126.70      1124.0           0.11390   \n",
      "567  ...          39.42           184.60      1821.0           0.16500   \n",
      "568  ...          30.37            59.16       268.6           0.08996   \n",
      "\n",
      "     compactness_worst  concavity_worst  concave points_worst  symmetry_worst  \\\n",
      "0              0.66560           0.7119                0.2654          0.4601   \n",
      "1              0.18660           0.2416                0.1860          0.2750   \n",
      "2              0.42450           0.4504                0.2430          0.3613   \n",
      "3              0.86630           0.6869                0.2575          0.6638   \n",
      "4              0.20500           0.4000                0.1625          0.2364   \n",
      "..                 ...              ...                   ...             ...   \n",
      "564            0.21130           0.4107                0.2216          0.2060   \n",
      "565            0.19220           0.3215                0.1628          0.2572   \n",
      "566            0.30940           0.3403                0.1418          0.2218   \n",
      "567            0.86810           0.9387                0.2650          0.4087   \n",
      "568            0.06444           0.0000                0.0000          0.2871   \n",
      "\n",
      "     fractal_dimension_worst  Unnamed: 32  \n",
      "0                    0.11890          NaN  \n",
      "1                    0.08902          NaN  \n",
      "2                    0.08758          NaN  \n",
      "3                    0.17300          NaN  \n",
      "4                    0.07678          NaN  \n",
      "..                       ...          ...  \n",
      "564                  0.07115          NaN  \n",
      "565                  0.06637          NaN  \n",
      "566                  0.07820          NaN  \n",
      "567                  0.12400          NaN  \n",
      "568                  0.07039          NaN  \n",
      "\n",
      "[569 rows x 33 columns]\n"
     ]
    }
   ],
   "source": [
    "print(ds)"
   ]
  },
  {
   "cell_type": "code",
   "execution_count": 5,
   "metadata": {},
   "outputs": [],
   "source": [
    "ds['diagnosis'].replace([\"B\",\"M\"],[0,1],inplace=True)"
   ]
  },
  {
   "cell_type": "code",
   "execution_count": 6,
   "metadata": {},
   "outputs": [
    {
     "data": {
      "text/html": [
       "<div>\n",
       "<style scoped>\n",
       "    .dataframe tbody tr th:only-of-type {\n",
       "        vertical-align: middle;\n",
       "    }\n",
       "\n",
       "    .dataframe tbody tr th {\n",
       "        vertical-align: top;\n",
       "    }\n",
       "\n",
       "    .dataframe thead th {\n",
       "        text-align: right;\n",
       "    }\n",
       "</style>\n",
       "<table border=\"1\" class=\"dataframe\">\n",
       "  <thead>\n",
       "    <tr style=\"text-align: right;\">\n",
       "      <th></th>\n",
       "      <th>id</th>\n",
       "      <th>diagnosis</th>\n",
       "      <th>radius_mean</th>\n",
       "      <th>texture_mean</th>\n",
       "      <th>perimeter_mean</th>\n",
       "      <th>area_mean</th>\n",
       "      <th>smoothness_mean</th>\n",
       "      <th>compactness_mean</th>\n",
       "      <th>concavity_mean</th>\n",
       "      <th>concave points_mean</th>\n",
       "      <th>...</th>\n",
       "      <th>texture_worst</th>\n",
       "      <th>perimeter_worst</th>\n",
       "      <th>area_worst</th>\n",
       "      <th>smoothness_worst</th>\n",
       "      <th>compactness_worst</th>\n",
       "      <th>concavity_worst</th>\n",
       "      <th>concave points_worst</th>\n",
       "      <th>symmetry_worst</th>\n",
       "      <th>fractal_dimension_worst</th>\n",
       "      <th>Unnamed: 32</th>\n",
       "    </tr>\n",
       "  </thead>\n",
       "  <tbody>\n",
       "    <tr>\n",
       "      <th>564</th>\n",
       "      <td>926424</td>\n",
       "      <td>1</td>\n",
       "      <td>21.56</td>\n",
       "      <td>22.39</td>\n",
       "      <td>142.00</td>\n",
       "      <td>1479.0</td>\n",
       "      <td>0.11100</td>\n",
       "      <td>0.11590</td>\n",
       "      <td>0.24390</td>\n",
       "      <td>0.13890</td>\n",
       "      <td>...</td>\n",
       "      <td>26.40</td>\n",
       "      <td>166.10</td>\n",
       "      <td>2027.0</td>\n",
       "      <td>0.14100</td>\n",
       "      <td>0.21130</td>\n",
       "      <td>0.4107</td>\n",
       "      <td>0.2216</td>\n",
       "      <td>0.2060</td>\n",
       "      <td>0.07115</td>\n",
       "      <td>NaN</td>\n",
       "    </tr>\n",
       "    <tr>\n",
       "      <th>565</th>\n",
       "      <td>926682</td>\n",
       "      <td>1</td>\n",
       "      <td>20.13</td>\n",
       "      <td>28.25</td>\n",
       "      <td>131.20</td>\n",
       "      <td>1261.0</td>\n",
       "      <td>0.09780</td>\n",
       "      <td>0.10340</td>\n",
       "      <td>0.14400</td>\n",
       "      <td>0.09791</td>\n",
       "      <td>...</td>\n",
       "      <td>38.25</td>\n",
       "      <td>155.00</td>\n",
       "      <td>1731.0</td>\n",
       "      <td>0.11660</td>\n",
       "      <td>0.19220</td>\n",
       "      <td>0.3215</td>\n",
       "      <td>0.1628</td>\n",
       "      <td>0.2572</td>\n",
       "      <td>0.06637</td>\n",
       "      <td>NaN</td>\n",
       "    </tr>\n",
       "    <tr>\n",
       "      <th>566</th>\n",
       "      <td>926954</td>\n",
       "      <td>1</td>\n",
       "      <td>16.60</td>\n",
       "      <td>28.08</td>\n",
       "      <td>108.30</td>\n",
       "      <td>858.1</td>\n",
       "      <td>0.08455</td>\n",
       "      <td>0.10230</td>\n",
       "      <td>0.09251</td>\n",
       "      <td>0.05302</td>\n",
       "      <td>...</td>\n",
       "      <td>34.12</td>\n",
       "      <td>126.70</td>\n",
       "      <td>1124.0</td>\n",
       "      <td>0.11390</td>\n",
       "      <td>0.30940</td>\n",
       "      <td>0.3403</td>\n",
       "      <td>0.1418</td>\n",
       "      <td>0.2218</td>\n",
       "      <td>0.07820</td>\n",
       "      <td>NaN</td>\n",
       "    </tr>\n",
       "    <tr>\n",
       "      <th>567</th>\n",
       "      <td>927241</td>\n",
       "      <td>1</td>\n",
       "      <td>20.60</td>\n",
       "      <td>29.33</td>\n",
       "      <td>140.10</td>\n",
       "      <td>1265.0</td>\n",
       "      <td>0.11780</td>\n",
       "      <td>0.27700</td>\n",
       "      <td>0.35140</td>\n",
       "      <td>0.15200</td>\n",
       "      <td>...</td>\n",
       "      <td>39.42</td>\n",
       "      <td>184.60</td>\n",
       "      <td>1821.0</td>\n",
       "      <td>0.16500</td>\n",
       "      <td>0.86810</td>\n",
       "      <td>0.9387</td>\n",
       "      <td>0.2650</td>\n",
       "      <td>0.4087</td>\n",
       "      <td>0.12400</td>\n",
       "      <td>NaN</td>\n",
       "    </tr>\n",
       "    <tr>\n",
       "      <th>568</th>\n",
       "      <td>92751</td>\n",
       "      <td>0</td>\n",
       "      <td>7.76</td>\n",
       "      <td>24.54</td>\n",
       "      <td>47.92</td>\n",
       "      <td>181.0</td>\n",
       "      <td>0.05263</td>\n",
       "      <td>0.04362</td>\n",
       "      <td>0.00000</td>\n",
       "      <td>0.00000</td>\n",
       "      <td>...</td>\n",
       "      <td>30.37</td>\n",
       "      <td>59.16</td>\n",
       "      <td>268.6</td>\n",
       "      <td>0.08996</td>\n",
       "      <td>0.06444</td>\n",
       "      <td>0.0000</td>\n",
       "      <td>0.0000</td>\n",
       "      <td>0.2871</td>\n",
       "      <td>0.07039</td>\n",
       "      <td>NaN</td>\n",
       "    </tr>\n",
       "  </tbody>\n",
       "</table>\n",
       "<p>5 rows × 33 columns</p>\n",
       "</div>"
      ],
      "text/plain": [
       "         id  diagnosis  radius_mean  texture_mean  perimeter_mean  area_mean  \\\n",
       "564  926424          1        21.56         22.39          142.00     1479.0   \n",
       "565  926682          1        20.13         28.25          131.20     1261.0   \n",
       "566  926954          1        16.60         28.08          108.30      858.1   \n",
       "567  927241          1        20.60         29.33          140.10     1265.0   \n",
       "568   92751          0         7.76         24.54           47.92      181.0   \n",
       "\n",
       "     smoothness_mean  compactness_mean  concavity_mean  concave points_mean  \\\n",
       "564          0.11100           0.11590         0.24390              0.13890   \n",
       "565          0.09780           0.10340         0.14400              0.09791   \n",
       "566          0.08455           0.10230         0.09251              0.05302   \n",
       "567          0.11780           0.27700         0.35140              0.15200   \n",
       "568          0.05263           0.04362         0.00000              0.00000   \n",
       "\n",
       "     ...  texture_worst  perimeter_worst  area_worst  smoothness_worst  \\\n",
       "564  ...          26.40           166.10      2027.0           0.14100   \n",
       "565  ...          38.25           155.00      1731.0           0.11660   \n",
       "566  ...          34.12           126.70      1124.0           0.11390   \n",
       "567  ...          39.42           184.60      1821.0           0.16500   \n",
       "568  ...          30.37            59.16       268.6           0.08996   \n",
       "\n",
       "     compactness_worst  concavity_worst  concave points_worst  symmetry_worst  \\\n",
       "564            0.21130           0.4107                0.2216          0.2060   \n",
       "565            0.19220           0.3215                0.1628          0.2572   \n",
       "566            0.30940           0.3403                0.1418          0.2218   \n",
       "567            0.86810           0.9387                0.2650          0.4087   \n",
       "568            0.06444           0.0000                0.0000          0.2871   \n",
       "\n",
       "     fractal_dimension_worst  Unnamed: 32  \n",
       "564                  0.07115          NaN  \n",
       "565                  0.06637          NaN  \n",
       "566                  0.07820          NaN  \n",
       "567                  0.12400          NaN  \n",
       "568                  0.07039          NaN  \n",
       "\n",
       "[5 rows x 33 columns]"
      ]
     },
     "execution_count": 6,
     "metadata": {},
     "output_type": "execute_result"
    }
   ],
   "source": [
    "ds.tail()"
   ]
  },
  {
   "cell_type": "code",
   "execution_count": 7,
   "metadata": {
    "colab": {
     "base_uri": "https://localhost:8080/"
    },
    "id": "sw3wjdK6iwK4",
    "outputId": "7958f26e-d774-4afd-ecb0-786bd4fa35d0"
   },
   "outputs": [
    {
     "data": {
      "text/plain": [
       "(569, 33)"
      ]
     },
     "execution_count": 7,
     "metadata": {},
     "output_type": "execute_result"
    }
   ],
   "source": [
    "ds.shape"
   ]
  },
  {
   "cell_type": "code",
   "execution_count": 8,
   "metadata": {
    "colab": {
     "base_uri": "https://localhost:8080/"
    },
    "id": "AWOjMuyBi77M",
    "outputId": "331edb2d-1dd9-40bd-87d2-1adace00be06"
   },
   "outputs": [
    {
     "name": "stdout",
     "output_type": "stream",
     "text": [
      "<class 'pandas.core.frame.DataFrame'>\n",
      "RangeIndex: 569 entries, 0 to 568\n",
      "Data columns (total 33 columns):\n",
      " #   Column                   Non-Null Count  Dtype  \n",
      "---  ------                   --------------  -----  \n",
      " 0   id                       569 non-null    int64  \n",
      " 1   diagnosis                569 non-null    int64  \n",
      " 2   radius_mean              569 non-null    float64\n",
      " 3   texture_mean             569 non-null    float64\n",
      " 4   perimeter_mean           569 non-null    float64\n",
      " 5   area_mean                569 non-null    float64\n",
      " 6   smoothness_mean          569 non-null    float64\n",
      " 7   compactness_mean         569 non-null    float64\n",
      " 8   concavity_mean           569 non-null    float64\n",
      " 9   concave points_mean      569 non-null    float64\n",
      " 10  symmetry_mean            569 non-null    float64\n",
      " 11  fractal_dimension_mean   569 non-null    float64\n",
      " 12  radius_se                569 non-null    float64\n",
      " 13  texture_se               569 non-null    float64\n",
      " 14  perimeter_se             569 non-null    float64\n",
      " 15  area_se                  569 non-null    float64\n",
      " 16  smoothness_se            569 non-null    float64\n",
      " 17  compactness_se           569 non-null    float64\n",
      " 18  concavity_se             569 non-null    float64\n",
      " 19  concave points_se        569 non-null    float64\n",
      " 20  symmetry_se              569 non-null    float64\n",
      " 21  fractal_dimension_se     569 non-null    float64\n",
      " 22  radius_worst             569 non-null    float64\n",
      " 23  texture_worst            569 non-null    float64\n",
      " 24  perimeter_worst          569 non-null    float64\n",
      " 25  area_worst               569 non-null    float64\n",
      " 26  smoothness_worst         569 non-null    float64\n",
      " 27  compactness_worst        569 non-null    float64\n",
      " 28  concavity_worst          569 non-null    float64\n",
      " 29  concave points_worst     569 non-null    float64\n",
      " 30  symmetry_worst           569 non-null    float64\n",
      " 31  fractal_dimension_worst  569 non-null    float64\n",
      " 32  Unnamed: 32              0 non-null      float64\n",
      "dtypes: float64(31), int64(2)\n",
      "memory usage: 146.8 KB\n"
     ]
    }
   ],
   "source": [
    "ds.info()"
   ]
  },
  {
   "cell_type": "code",
   "execution_count": 9,
   "metadata": {
    "colab": {
     "base_uri": "https://localhost:8080/"
    },
    "id": "RuoVIUTYjLpk",
    "outputId": "af6c56a0-c899-4fb3-e974-f8eff23ad720"
   },
   "outputs": [
    {
     "data": {
      "text/plain": [
       "id                           0\n",
       "diagnosis                    0\n",
       "radius_mean                  0\n",
       "texture_mean                 0\n",
       "perimeter_mean               0\n",
       "area_mean                    0\n",
       "smoothness_mean              0\n",
       "compactness_mean             0\n",
       "concavity_mean               0\n",
       "concave points_mean          0\n",
       "symmetry_mean                0\n",
       "fractal_dimension_mean       0\n",
       "radius_se                    0\n",
       "texture_se                   0\n",
       "perimeter_se                 0\n",
       "area_se                      0\n",
       "smoothness_se                0\n",
       "compactness_se               0\n",
       "concavity_se                 0\n",
       "concave points_se            0\n",
       "symmetry_se                  0\n",
       "fractal_dimension_se         0\n",
       "radius_worst                 0\n",
       "texture_worst                0\n",
       "perimeter_worst              0\n",
       "area_worst                   0\n",
       "smoothness_worst             0\n",
       "compactness_worst            0\n",
       "concavity_worst              0\n",
       "concave points_worst         0\n",
       "symmetry_worst               0\n",
       "fractal_dimension_worst      0\n",
       "Unnamed: 32                569\n",
       "dtype: int64"
      ]
     },
     "execution_count": 9,
     "metadata": {},
     "output_type": "execute_result"
    }
   ],
   "source": [
    "ds.isnull().sum()"
   ]
  },
  {
   "cell_type": "code",
   "execution_count": 10,
   "metadata": {
    "colab": {
     "base_uri": "https://localhost:8080/",
     "height": 428
    },
    "id": "oLMuXI33jlkq",
    "outputId": "7f7030d3-7869-40dc-e56d-e7e9fb568971"
   },
   "outputs": [
    {
     "data": {
      "text/html": [
       "<div>\n",
       "<style scoped>\n",
       "    .dataframe tbody tr th:only-of-type {\n",
       "        vertical-align: middle;\n",
       "    }\n",
       "\n",
       "    .dataframe tbody tr th {\n",
       "        vertical-align: top;\n",
       "    }\n",
       "\n",
       "    .dataframe thead th {\n",
       "        text-align: right;\n",
       "    }\n",
       "</style>\n",
       "<table border=\"1\" class=\"dataframe\">\n",
       "  <thead>\n",
       "    <tr style=\"text-align: right;\">\n",
       "      <th></th>\n",
       "      <th>id</th>\n",
       "      <th>diagnosis</th>\n",
       "      <th>radius_mean</th>\n",
       "      <th>texture_mean</th>\n",
       "      <th>perimeter_mean</th>\n",
       "      <th>area_mean</th>\n",
       "      <th>smoothness_mean</th>\n",
       "      <th>compactness_mean</th>\n",
       "      <th>concavity_mean</th>\n",
       "      <th>concave points_mean</th>\n",
       "      <th>...</th>\n",
       "      <th>texture_worst</th>\n",
       "      <th>perimeter_worst</th>\n",
       "      <th>area_worst</th>\n",
       "      <th>smoothness_worst</th>\n",
       "      <th>compactness_worst</th>\n",
       "      <th>concavity_worst</th>\n",
       "      <th>concave points_worst</th>\n",
       "      <th>symmetry_worst</th>\n",
       "      <th>fractal_dimension_worst</th>\n",
       "      <th>Unnamed: 32</th>\n",
       "    </tr>\n",
       "  </thead>\n",
       "  <tbody>\n",
       "    <tr>\n",
       "      <th>count</th>\n",
       "      <td>5.690000e+02</td>\n",
       "      <td>569.000000</td>\n",
       "      <td>569.000000</td>\n",
       "      <td>569.000000</td>\n",
       "      <td>569.000000</td>\n",
       "      <td>569.000000</td>\n",
       "      <td>569.000000</td>\n",
       "      <td>569.000000</td>\n",
       "      <td>569.000000</td>\n",
       "      <td>569.000000</td>\n",
       "      <td>...</td>\n",
       "      <td>569.000000</td>\n",
       "      <td>569.000000</td>\n",
       "      <td>569.000000</td>\n",
       "      <td>569.000000</td>\n",
       "      <td>569.000000</td>\n",
       "      <td>569.000000</td>\n",
       "      <td>569.000000</td>\n",
       "      <td>569.000000</td>\n",
       "      <td>569.000000</td>\n",
       "      <td>0.0</td>\n",
       "    </tr>\n",
       "    <tr>\n",
       "      <th>mean</th>\n",
       "      <td>3.037183e+07</td>\n",
       "      <td>0.372583</td>\n",
       "      <td>14.127292</td>\n",
       "      <td>19.289649</td>\n",
       "      <td>91.969033</td>\n",
       "      <td>654.889104</td>\n",
       "      <td>0.096360</td>\n",
       "      <td>0.104341</td>\n",
       "      <td>0.088799</td>\n",
       "      <td>0.048919</td>\n",
       "      <td>...</td>\n",
       "      <td>25.677223</td>\n",
       "      <td>107.261213</td>\n",
       "      <td>880.583128</td>\n",
       "      <td>0.132369</td>\n",
       "      <td>0.254265</td>\n",
       "      <td>0.272188</td>\n",
       "      <td>0.114606</td>\n",
       "      <td>0.290076</td>\n",
       "      <td>0.083946</td>\n",
       "      <td>NaN</td>\n",
       "    </tr>\n",
       "    <tr>\n",
       "      <th>std</th>\n",
       "      <td>1.250206e+08</td>\n",
       "      <td>0.483918</td>\n",
       "      <td>3.524049</td>\n",
       "      <td>4.301036</td>\n",
       "      <td>24.298981</td>\n",
       "      <td>351.914129</td>\n",
       "      <td>0.014064</td>\n",
       "      <td>0.052813</td>\n",
       "      <td>0.079720</td>\n",
       "      <td>0.038803</td>\n",
       "      <td>...</td>\n",
       "      <td>6.146258</td>\n",
       "      <td>33.602542</td>\n",
       "      <td>569.356993</td>\n",
       "      <td>0.022832</td>\n",
       "      <td>0.157336</td>\n",
       "      <td>0.208624</td>\n",
       "      <td>0.065732</td>\n",
       "      <td>0.061867</td>\n",
       "      <td>0.018061</td>\n",
       "      <td>NaN</td>\n",
       "    </tr>\n",
       "    <tr>\n",
       "      <th>min</th>\n",
       "      <td>8.670000e+03</td>\n",
       "      <td>0.000000</td>\n",
       "      <td>6.981000</td>\n",
       "      <td>9.710000</td>\n",
       "      <td>43.790000</td>\n",
       "      <td>143.500000</td>\n",
       "      <td>0.052630</td>\n",
       "      <td>0.019380</td>\n",
       "      <td>0.000000</td>\n",
       "      <td>0.000000</td>\n",
       "      <td>...</td>\n",
       "      <td>12.020000</td>\n",
       "      <td>50.410000</td>\n",
       "      <td>185.200000</td>\n",
       "      <td>0.071170</td>\n",
       "      <td>0.027290</td>\n",
       "      <td>0.000000</td>\n",
       "      <td>0.000000</td>\n",
       "      <td>0.156500</td>\n",
       "      <td>0.055040</td>\n",
       "      <td>NaN</td>\n",
       "    </tr>\n",
       "    <tr>\n",
       "      <th>25%</th>\n",
       "      <td>8.692180e+05</td>\n",
       "      <td>0.000000</td>\n",
       "      <td>11.700000</td>\n",
       "      <td>16.170000</td>\n",
       "      <td>75.170000</td>\n",
       "      <td>420.300000</td>\n",
       "      <td>0.086370</td>\n",
       "      <td>0.064920</td>\n",
       "      <td>0.029560</td>\n",
       "      <td>0.020310</td>\n",
       "      <td>...</td>\n",
       "      <td>21.080000</td>\n",
       "      <td>84.110000</td>\n",
       "      <td>515.300000</td>\n",
       "      <td>0.116600</td>\n",
       "      <td>0.147200</td>\n",
       "      <td>0.114500</td>\n",
       "      <td>0.064930</td>\n",
       "      <td>0.250400</td>\n",
       "      <td>0.071460</td>\n",
       "      <td>NaN</td>\n",
       "    </tr>\n",
       "    <tr>\n",
       "      <th>50%</th>\n",
       "      <td>9.060240e+05</td>\n",
       "      <td>0.000000</td>\n",
       "      <td>13.370000</td>\n",
       "      <td>18.840000</td>\n",
       "      <td>86.240000</td>\n",
       "      <td>551.100000</td>\n",
       "      <td>0.095870</td>\n",
       "      <td>0.092630</td>\n",
       "      <td>0.061540</td>\n",
       "      <td>0.033500</td>\n",
       "      <td>...</td>\n",
       "      <td>25.410000</td>\n",
       "      <td>97.660000</td>\n",
       "      <td>686.500000</td>\n",
       "      <td>0.131300</td>\n",
       "      <td>0.211900</td>\n",
       "      <td>0.226700</td>\n",
       "      <td>0.099930</td>\n",
       "      <td>0.282200</td>\n",
       "      <td>0.080040</td>\n",
       "      <td>NaN</td>\n",
       "    </tr>\n",
       "    <tr>\n",
       "      <th>75%</th>\n",
       "      <td>8.813129e+06</td>\n",
       "      <td>1.000000</td>\n",
       "      <td>15.780000</td>\n",
       "      <td>21.800000</td>\n",
       "      <td>104.100000</td>\n",
       "      <td>782.700000</td>\n",
       "      <td>0.105300</td>\n",
       "      <td>0.130400</td>\n",
       "      <td>0.130700</td>\n",
       "      <td>0.074000</td>\n",
       "      <td>...</td>\n",
       "      <td>29.720000</td>\n",
       "      <td>125.400000</td>\n",
       "      <td>1084.000000</td>\n",
       "      <td>0.146000</td>\n",
       "      <td>0.339100</td>\n",
       "      <td>0.382900</td>\n",
       "      <td>0.161400</td>\n",
       "      <td>0.317900</td>\n",
       "      <td>0.092080</td>\n",
       "      <td>NaN</td>\n",
       "    </tr>\n",
       "    <tr>\n",
       "      <th>max</th>\n",
       "      <td>9.113205e+08</td>\n",
       "      <td>1.000000</td>\n",
       "      <td>28.110000</td>\n",
       "      <td>39.280000</td>\n",
       "      <td>188.500000</td>\n",
       "      <td>2501.000000</td>\n",
       "      <td>0.163400</td>\n",
       "      <td>0.345400</td>\n",
       "      <td>0.426800</td>\n",
       "      <td>0.201200</td>\n",
       "      <td>...</td>\n",
       "      <td>49.540000</td>\n",
       "      <td>251.200000</td>\n",
       "      <td>4254.000000</td>\n",
       "      <td>0.222600</td>\n",
       "      <td>1.058000</td>\n",
       "      <td>1.252000</td>\n",
       "      <td>0.291000</td>\n",
       "      <td>0.663800</td>\n",
       "      <td>0.207500</td>\n",
       "      <td>NaN</td>\n",
       "    </tr>\n",
       "  </tbody>\n",
       "</table>\n",
       "<p>8 rows × 33 columns</p>\n",
       "</div>"
      ],
      "text/plain": [
       "                 id   diagnosis  radius_mean  texture_mean  perimeter_mean  \\\n",
       "count  5.690000e+02  569.000000   569.000000    569.000000      569.000000   \n",
       "mean   3.037183e+07    0.372583    14.127292     19.289649       91.969033   \n",
       "std    1.250206e+08    0.483918     3.524049      4.301036       24.298981   \n",
       "min    8.670000e+03    0.000000     6.981000      9.710000       43.790000   \n",
       "25%    8.692180e+05    0.000000    11.700000     16.170000       75.170000   \n",
       "50%    9.060240e+05    0.000000    13.370000     18.840000       86.240000   \n",
       "75%    8.813129e+06    1.000000    15.780000     21.800000      104.100000   \n",
       "max    9.113205e+08    1.000000    28.110000     39.280000      188.500000   \n",
       "\n",
       "         area_mean  smoothness_mean  compactness_mean  concavity_mean  \\\n",
       "count   569.000000       569.000000        569.000000      569.000000   \n",
       "mean    654.889104         0.096360          0.104341        0.088799   \n",
       "std     351.914129         0.014064          0.052813        0.079720   \n",
       "min     143.500000         0.052630          0.019380        0.000000   \n",
       "25%     420.300000         0.086370          0.064920        0.029560   \n",
       "50%     551.100000         0.095870          0.092630        0.061540   \n",
       "75%     782.700000         0.105300          0.130400        0.130700   \n",
       "max    2501.000000         0.163400          0.345400        0.426800   \n",
       "\n",
       "       concave points_mean  ...  texture_worst  perimeter_worst   area_worst  \\\n",
       "count           569.000000  ...     569.000000       569.000000   569.000000   \n",
       "mean              0.048919  ...      25.677223       107.261213   880.583128   \n",
       "std               0.038803  ...       6.146258        33.602542   569.356993   \n",
       "min               0.000000  ...      12.020000        50.410000   185.200000   \n",
       "25%               0.020310  ...      21.080000        84.110000   515.300000   \n",
       "50%               0.033500  ...      25.410000        97.660000   686.500000   \n",
       "75%               0.074000  ...      29.720000       125.400000  1084.000000   \n",
       "max               0.201200  ...      49.540000       251.200000  4254.000000   \n",
       "\n",
       "       smoothness_worst  compactness_worst  concavity_worst  \\\n",
       "count        569.000000         569.000000       569.000000   \n",
       "mean           0.132369           0.254265         0.272188   \n",
       "std            0.022832           0.157336         0.208624   \n",
       "min            0.071170           0.027290         0.000000   \n",
       "25%            0.116600           0.147200         0.114500   \n",
       "50%            0.131300           0.211900         0.226700   \n",
       "75%            0.146000           0.339100         0.382900   \n",
       "max            0.222600           1.058000         1.252000   \n",
       "\n",
       "       concave points_worst  symmetry_worst  fractal_dimension_worst  \\\n",
       "count            569.000000      569.000000               569.000000   \n",
       "mean               0.114606        0.290076                 0.083946   \n",
       "std                0.065732        0.061867                 0.018061   \n",
       "min                0.000000        0.156500                 0.055040   \n",
       "25%                0.064930        0.250400                 0.071460   \n",
       "50%                0.099930        0.282200                 0.080040   \n",
       "75%                0.161400        0.317900                 0.092080   \n",
       "max                0.291000        0.663800                 0.207500   \n",
       "\n",
       "       Unnamed: 32  \n",
       "count          0.0  \n",
       "mean           NaN  \n",
       "std            NaN  \n",
       "min            NaN  \n",
       "25%            NaN  \n",
       "50%            NaN  \n",
       "75%            NaN  \n",
       "max            NaN  \n",
       "\n",
       "[8 rows x 33 columns]"
      ]
     },
     "execution_count": 10,
     "metadata": {},
     "output_type": "execute_result"
    }
   ],
   "source": [
    "ds.describe()"
   ]
  },
  {
   "cell_type": "code",
   "execution_count": 11,
   "metadata": {
    "colab": {
     "base_uri": "https://localhost:8080/"
    },
    "id": "tC8Yii4Yjzer",
    "outputId": "0d5589af-9af8-44ed-9d07-38e7ff360e21"
   },
   "outputs": [
    {
     "data": {
      "text/plain": [
       "0    357\n",
       "1    212\n",
       "Name: diagnosis, dtype: int64"
      ]
     },
     "execution_count": 11,
     "metadata": {},
     "output_type": "execute_result"
    }
   ],
   "source": [
    "ds['diagnosis'].value_counts()"
   ]
  },
  {
   "cell_type": "code",
   "execution_count": 12,
   "metadata": {
    "colab": {
     "base_uri": "https://localhost:8080/",
     "height": 272
    },
    "id": "YGWHjrVSkN5c",
    "outputId": "e8c49a34-7c21-489b-94d1-ff2ce146fca7"
   },
   "outputs": [
    {
     "data": {
      "text/html": [
       "<div>\n",
       "<style scoped>\n",
       "    .dataframe tbody tr th:only-of-type {\n",
       "        vertical-align: middle;\n",
       "    }\n",
       "\n",
       "    .dataframe tbody tr th {\n",
       "        vertical-align: top;\n",
       "    }\n",
       "\n",
       "    .dataframe thead th {\n",
       "        text-align: right;\n",
       "    }\n",
       "</style>\n",
       "<table border=\"1\" class=\"dataframe\">\n",
       "  <thead>\n",
       "    <tr style=\"text-align: right;\">\n",
       "      <th></th>\n",
       "      <th>id</th>\n",
       "      <th>radius_mean</th>\n",
       "      <th>texture_mean</th>\n",
       "      <th>perimeter_mean</th>\n",
       "      <th>area_mean</th>\n",
       "      <th>smoothness_mean</th>\n",
       "      <th>compactness_mean</th>\n",
       "      <th>concavity_mean</th>\n",
       "      <th>concave points_mean</th>\n",
       "      <th>symmetry_mean</th>\n",
       "      <th>...</th>\n",
       "      <th>texture_worst</th>\n",
       "      <th>perimeter_worst</th>\n",
       "      <th>area_worst</th>\n",
       "      <th>smoothness_worst</th>\n",
       "      <th>compactness_worst</th>\n",
       "      <th>concavity_worst</th>\n",
       "      <th>concave points_worst</th>\n",
       "      <th>symmetry_worst</th>\n",
       "      <th>fractal_dimension_worst</th>\n",
       "      <th>Unnamed: 32</th>\n",
       "    </tr>\n",
       "    <tr>\n",
       "      <th>diagnosis</th>\n",
       "      <th></th>\n",
       "      <th></th>\n",
       "      <th></th>\n",
       "      <th></th>\n",
       "      <th></th>\n",
       "      <th></th>\n",
       "      <th></th>\n",
       "      <th></th>\n",
       "      <th></th>\n",
       "      <th></th>\n",
       "      <th></th>\n",
       "      <th></th>\n",
       "      <th></th>\n",
       "      <th></th>\n",
       "      <th></th>\n",
       "      <th></th>\n",
       "      <th></th>\n",
       "      <th></th>\n",
       "      <th></th>\n",
       "      <th></th>\n",
       "      <th></th>\n",
       "    </tr>\n",
       "  </thead>\n",
       "  <tbody>\n",
       "    <tr>\n",
       "      <th>0</th>\n",
       "      <td>2.654382e+07</td>\n",
       "      <td>12.146524</td>\n",
       "      <td>17.914762</td>\n",
       "      <td>78.075406</td>\n",
       "      <td>462.790196</td>\n",
       "      <td>0.092478</td>\n",
       "      <td>0.080085</td>\n",
       "      <td>0.046058</td>\n",
       "      <td>0.025717</td>\n",
       "      <td>0.174186</td>\n",
       "      <td>...</td>\n",
       "      <td>23.515070</td>\n",
       "      <td>87.005938</td>\n",
       "      <td>558.899440</td>\n",
       "      <td>0.124959</td>\n",
       "      <td>0.182673</td>\n",
       "      <td>0.166238</td>\n",
       "      <td>0.074444</td>\n",
       "      <td>0.270246</td>\n",
       "      <td>0.079442</td>\n",
       "      <td>NaN</td>\n",
       "    </tr>\n",
       "    <tr>\n",
       "      <th>1</th>\n",
       "      <td>3.681805e+07</td>\n",
       "      <td>17.462830</td>\n",
       "      <td>21.604906</td>\n",
       "      <td>115.365377</td>\n",
       "      <td>978.376415</td>\n",
       "      <td>0.102898</td>\n",
       "      <td>0.145188</td>\n",
       "      <td>0.160775</td>\n",
       "      <td>0.087990</td>\n",
       "      <td>0.192909</td>\n",
       "      <td>...</td>\n",
       "      <td>29.318208</td>\n",
       "      <td>141.370330</td>\n",
       "      <td>1422.286321</td>\n",
       "      <td>0.144845</td>\n",
       "      <td>0.374824</td>\n",
       "      <td>0.450606</td>\n",
       "      <td>0.182237</td>\n",
       "      <td>0.323468</td>\n",
       "      <td>0.091530</td>\n",
       "      <td>NaN</td>\n",
       "    </tr>\n",
       "  </tbody>\n",
       "</table>\n",
       "<p>2 rows × 32 columns</p>\n",
       "</div>"
      ],
      "text/plain": [
       "                     id  radius_mean  texture_mean  perimeter_mean  \\\n",
       "diagnosis                                                            \n",
       "0          2.654382e+07    12.146524     17.914762       78.075406   \n",
       "1          3.681805e+07    17.462830     21.604906      115.365377   \n",
       "\n",
       "            area_mean  smoothness_mean  compactness_mean  concavity_mean  \\\n",
       "diagnosis                                                                  \n",
       "0          462.790196         0.092478          0.080085        0.046058   \n",
       "1          978.376415         0.102898          0.145188        0.160775   \n",
       "\n",
       "           concave points_mean  symmetry_mean  ...  texture_worst  \\\n",
       "diagnosis                                      ...                  \n",
       "0                     0.025717       0.174186  ...      23.515070   \n",
       "1                     0.087990       0.192909  ...      29.318208   \n",
       "\n",
       "           perimeter_worst   area_worst  smoothness_worst  compactness_worst  \\\n",
       "diagnosis                                                                      \n",
       "0                87.005938   558.899440          0.124959           0.182673   \n",
       "1               141.370330  1422.286321          0.144845           0.374824   \n",
       "\n",
       "           concavity_worst  concave points_worst  symmetry_worst  \\\n",
       "diagnosis                                                          \n",
       "0                 0.166238              0.074444        0.270246   \n",
       "1                 0.450606              0.182237        0.323468   \n",
       "\n",
       "           fractal_dimension_worst  Unnamed: 32  \n",
       "diagnosis                                        \n",
       "0                         0.079442          NaN  \n",
       "1                         0.091530          NaN  \n",
       "\n",
       "[2 rows x 32 columns]"
      ]
     },
     "execution_count": 12,
     "metadata": {},
     "output_type": "execute_result"
    }
   ],
   "source": [
    "ds.groupby('diagnosis').mean()"
   ]
  },
  {
   "cell_type": "markdown",
   "metadata": {
    "id": "tUPYps4DlVFR"
   },
   "source": [
    "Separating the features and target"
   ]
  },
  {
   "cell_type": "code",
   "execution_count": 13,
   "metadata": {
    "id": "Z5pD8rP5kzKD"
   },
   "outputs": [],
   "source": [
    "X = ds.drop(['diagnosis','Unnamed: 32'], axis=1)\n",
    "\n",
    "Y = ds['diagnosis']"
   ]
  },
  {
   "cell_type": "code",
   "execution_count": 14,
   "metadata": {},
   "outputs": [
    {
     "name": "stdout",
     "output_type": "stream",
     "text": [
      "id                         0\n",
      "radius_mean                0\n",
      "texture_mean               0\n",
      "perimeter_mean             0\n",
      "area_mean                  0\n",
      "smoothness_mean            0\n",
      "compactness_mean           0\n",
      "concavity_mean             0\n",
      "concave points_mean        0\n",
      "symmetry_mean              0\n",
      "fractal_dimension_mean     0\n",
      "radius_se                  0\n",
      "texture_se                 0\n",
      "perimeter_se               0\n",
      "area_se                    0\n",
      "smoothness_se              0\n",
      "compactness_se             0\n",
      "concavity_se               0\n",
      "concave points_se          0\n",
      "symmetry_se                0\n",
      "fractal_dimension_se       0\n",
      "radius_worst               0\n",
      "texture_worst              0\n",
      "perimeter_worst            0\n",
      "area_worst                 0\n",
      "smoothness_worst           0\n",
      "compactness_worst          0\n",
      "concavity_worst            0\n",
      "concave points_worst       0\n",
      "symmetry_worst             0\n",
      "fractal_dimension_worst    0\n",
      "dtype: int64\n",
      "id                         0\n",
      "radius_mean                0\n",
      "texture_mean               0\n",
      "perimeter_mean             0\n",
      "area_mean                  0\n",
      "smoothness_mean            0\n",
      "compactness_mean           0\n",
      "concavity_mean             0\n",
      "concave points_mean        0\n",
      "symmetry_mean              0\n",
      "fractal_dimension_mean     0\n",
      "radius_se                  0\n",
      "texture_se                 0\n",
      "perimeter_se               0\n",
      "area_se                    0\n",
      "smoothness_se              0\n",
      "compactness_se             0\n",
      "concavity_se               0\n",
      "concave points_se          0\n",
      "symmetry_se                0\n",
      "fractal_dimension_se       0\n",
      "radius_worst               0\n",
      "texture_worst              0\n",
      "perimeter_worst            0\n",
      "area_worst                 0\n",
      "smoothness_worst           0\n",
      "compactness_worst          0\n",
      "concavity_worst            0\n",
      "concave points_worst       0\n",
      "symmetry_worst             0\n",
      "fractal_dimension_worst    0\n",
      "dtype: int64\n"
     ]
    }
   ],
   "source": [
    "print(np.isnan(X).sum())\n",
    "print(np.isinf(X).sum())"
   ]
  },
  {
   "cell_type": "code",
   "execution_count": 15,
   "metadata": {
    "id": "vZtU30bPluG_"
   },
   "outputs": [],
   "source": [
    "X_train, X_test, Y_train, Y_test = train_test_split(X, Y, test_size=0.2, random_state=2)"
   ]
  },
  {
   "cell_type": "code",
   "execution_count": 16,
   "metadata": {
    "colab": {
     "base_uri": "https://localhost:8080/"
    },
    "id": "zWaeuX3amqYH",
    "outputId": "5f56841f-272a-4494-f6b0-f269f2d35250"
   },
   "outputs": [
    {
     "name": "stdout",
     "output_type": "stream",
     "text": [
      "(569, 31) (455, 31) (114, 31)\n"
     ]
    }
   ],
   "source": [
    "print(X.shape, X_train.shape, X_test.shape)"
   ]
  },
  {
   "cell_type": "markdown",
   "metadata": {
    "id": "0g1NEndK7UB6"
   },
   "source": [
    "Standardize the data"
   ]
  },
  {
   "cell_type": "code",
   "execution_count": 17,
   "metadata": {
    "id": "C5EP9f_B7UXU"
   },
   "outputs": [],
   "source": [
    "from sklearn.preprocessing import StandardScaler"
   ]
  },
  {
   "cell_type": "code",
   "execution_count": 18,
   "metadata": {
    "id": "sCGC8dku7cge"
   },
   "outputs": [],
   "source": [
    "scaler = StandardScaler()\n",
    "\n",
    "X_train_std = scaler.fit_transform(X_train)\n",
    "\n",
    "X_test_std = scaler.transform(X_test)"
   ]
  },
  {
   "cell_type": "markdown",
   "metadata": {
    "id": "VxyxgeK8qkDj"
   },
   "source": [
    "**Building the Neural Network**"
   ]
  },
  {
   "cell_type": "code",
   "execution_count": 19,
   "metadata": {
    "id": "1WX_ChHfqrV2"
   },
   "outputs": [],
   "source": [
    "# importing tensorflow and Keras\n",
    "import tensorflow as tf \n",
    "tf.random.set_seed(3)\n",
    "from tensorflow import keras"
   ]
  },
  {
   "cell_type": "code",
   "execution_count": 20,
   "metadata": {},
   "outputs": [
    {
     "name": "stdout",
     "output_type": "stream",
     "text": [
      "Defaulting to user installation because normal site-packages is not writeable\n",
      "Requirement already satisfied: scikeras in c:\\users\\simran sharma\\appdata\\roaming\\python\\python39\\site-packages (0.10.0)\n",
      "Requirement already satisfied: scikit-learn>=1.0.0 in c:\\programdata\\anaconda3\\lib\\site-packages (from scikeras) (1.0.2)\n",
      "Requirement already satisfied: packaging>=0.21 in c:\\programdata\\anaconda3\\lib\\site-packages (from scikeras) (21.3)\n",
      "Requirement already satisfied: pyparsing!=3.0.5,>=2.0.2 in c:\\programdata\\anaconda3\\lib\\site-packages (from packaging>=0.21->scikeras) (3.0.9)\n",
      "Requirement already satisfied: threadpoolctl>=2.0.0 in c:\\programdata\\anaconda3\\lib\\site-packages (from scikit-learn>=1.0.0->scikeras) (2.2.0)\n",
      "Requirement already satisfied: numpy>=1.14.6 in c:\\programdata\\anaconda3\\lib\\site-packages (from scikit-learn>=1.0.0->scikeras) (1.21.5)\n",
      "Requirement already satisfied: scipy>=1.1.0 in c:\\programdata\\anaconda3\\lib\\site-packages (from scikit-learn>=1.0.0->scikeras) (1.9.1)\n",
      "Requirement already satisfied: joblib>=0.11 in c:\\programdata\\anaconda3\\lib\\site-packages (from scikit-learn>=1.0.0->scikeras) (1.1.0)\n"
     ]
    }
   ],
   "source": [
    "!pip install scikeras"
   ]
  },
  {
   "cell_type": "code",
   "execution_count": 21,
   "metadata": {},
   "outputs": [
    {
     "name": "stdout",
     "output_type": "stream",
     "text": [
      "Defaulting to user installation because normal site-packages is not writeable\n",
      "Requirement already satisfied: keras-tuner in c:\\users\\simran sharma\\appdata\\roaming\\python\\python39\\site-packages (1.3.0)\n",
      "Requirement already satisfied: ipython in c:\\programdata\\anaconda3\\lib\\site-packages (from keras-tuner) (7.31.1)\n",
      "Requirement already satisfied: kt-legacy in c:\\users\\simran sharma\\appdata\\roaming\\python\\python39\\site-packages (from keras-tuner) (1.0.4)\n",
      "Requirement already satisfied: requests in c:\\programdata\\anaconda3\\lib\\site-packages (from keras-tuner) (2.28.1)\n",
      "Requirement already satisfied: packaging in c:\\programdata\\anaconda3\\lib\\site-packages (from keras-tuner) (21.3)\n",
      "Requirement already satisfied: tensorflow>=2.0 in c:\\users\\simran sharma\\appdata\\roaming\\python\\python39\\site-packages (from keras-tuner) (2.11.0)\n",
      "Requirement already satisfied: tensorflow-intel==2.11.0 in c:\\users\\simran sharma\\appdata\\roaming\\python\\python39\\site-packages (from tensorflow>=2.0->keras-tuner) (2.11.0)\n",
      "Requirement already satisfied: termcolor>=1.1.0 in c:\\users\\simran sharma\\appdata\\roaming\\python\\python39\\site-packages (from tensorflow-intel==2.11.0->tensorflow>=2.0->keras-tuner) (2.2.0)\n",
      "Requirement already satisfied: grpcio<2.0,>=1.24.3 in c:\\users\\simran sharma\\appdata\\roaming\\python\\python39\\site-packages (from tensorflow-intel==2.11.0->tensorflow>=2.0->keras-tuner) (1.51.1)\n",
      "Requirement already satisfied: numpy>=1.20 in c:\\programdata\\anaconda3\\lib\\site-packages (from tensorflow-intel==2.11.0->tensorflow>=2.0->keras-tuner) (1.21.5)\n",
      "Requirement already satisfied: opt-einsum>=2.3.2 in c:\\users\\simran sharma\\appdata\\roaming\\python\\python39\\site-packages (from tensorflow-intel==2.11.0->tensorflow>=2.0->keras-tuner) (3.3.0)\n",
      "Requirement already satisfied: protobuf<3.20,>=3.9.2 in c:\\users\\simran sharma\\appdata\\roaming\\python\\python39\\site-packages (from tensorflow-intel==2.11.0->tensorflow>=2.0->keras-tuner) (3.19.6)\n",
      "Requirement already satisfied: google-pasta>=0.1.1 in c:\\users\\simran sharma\\appdata\\roaming\\python\\python39\\site-packages (from tensorflow-intel==2.11.0->tensorflow>=2.0->keras-tuner) (0.2.0)\n",
      "Requirement already satisfied: setuptools in c:\\programdata\\anaconda3\\lib\\site-packages (from tensorflow-intel==2.11.0->tensorflow>=2.0->keras-tuner) (63.4.1)\n",
      "Requirement already satisfied: typing-extensions>=3.6.6 in c:\\programdata\\anaconda3\\lib\\site-packages (from tensorflow-intel==2.11.0->tensorflow>=2.0->keras-tuner) (4.3.0)\n",
      "Requirement already satisfied: h5py>=2.9.0 in c:\\programdata\\anaconda3\\lib\\site-packages (from tensorflow-intel==2.11.0->tensorflow>=2.0->keras-tuner) (3.7.0)\n",
      "Requirement already satisfied: astunparse>=1.6.0 in c:\\users\\simran sharma\\appdata\\roaming\\python\\python39\\site-packages (from tensorflow-intel==2.11.0->tensorflow>=2.0->keras-tuner) (1.6.3)\n",
      "Requirement already satisfied: libclang>=13.0.0 in c:\\users\\simran sharma\\appdata\\roaming\\python\\python39\\site-packages (from tensorflow-intel==2.11.0->tensorflow>=2.0->keras-tuner) (15.0.6.1)\n",
      "Requirement already satisfied: tensorboard<2.12,>=2.11 in c:\\users\\simran sharma\\appdata\\roaming\\python\\python39\\site-packages (from tensorflow-intel==2.11.0->tensorflow>=2.0->keras-tuner) (2.11.2)\n",
      "Requirement already satisfied: gast<=0.4.0,>=0.2.1 in c:\\users\\simran sharma\\appdata\\roaming\\python\\python39\\site-packages (from tensorflow-intel==2.11.0->tensorflow>=2.0->keras-tuner) (0.4.0)\n",
      "Requirement already satisfied: absl-py>=1.0.0 in c:\\users\\simran sharma\\appdata\\roaming\\python\\python39\\site-packages (from tensorflow-intel==2.11.0->tensorflow>=2.0->keras-tuner) (1.4.0)\n",
      "Requirement already satisfied: keras<2.12,>=2.11.0 in c:\\users\\simran sharma\\appdata\\roaming\\python\\python39\\site-packages (from tensorflow-intel==2.11.0->tensorflow>=2.0->keras-tuner) (2.11.0)\n",
      "Requirement already satisfied: tensorflow-io-gcs-filesystem>=0.23.1 in c:\\users\\simran sharma\\appdata\\roaming\\python\\python39\\site-packages (from tensorflow-intel==2.11.0->tensorflow>=2.0->keras-tuner) (0.30.0)\n",
      "Requirement already satisfied: six>=1.12.0 in c:\\programdata\\anaconda3\\lib\\site-packages (from tensorflow-intel==2.11.0->tensorflow>=2.0->keras-tuner) (1.16.0)\n",
      "Requirement already satisfied: flatbuffers>=2.0 in c:\\users\\simran sharma\\appdata\\roaming\\python\\python39\\site-packages (from tensorflow-intel==2.11.0->tensorflow>=2.0->keras-tuner) (23.1.21)\n",
      "Requirement already satisfied: wrapt>=1.11.0 in c:\\programdata\\anaconda3\\lib\\site-packages (from tensorflow-intel==2.11.0->tensorflow>=2.0->keras-tuner) (1.14.1)\n",
      "Requirement already satisfied: tensorflow-estimator<2.12,>=2.11.0 in c:\\users\\simran sharma\\appdata\\roaming\\python\\python39\\site-packages (from tensorflow-intel==2.11.0->tensorflow>=2.0->keras-tuner) (2.11.0)\n",
      "Requirement already satisfied: pygments in c:\\programdata\\anaconda3\\lib\\site-packages (from ipython->keras-tuner) (2.11.2)\n",
      "Requirement already satisfied: jedi>=0.16 in c:\\programdata\\anaconda3\\lib\\site-packages (from ipython->keras-tuner) (0.18.1)\n",
      "Requirement already satisfied: matplotlib-inline in c:\\programdata\\anaconda3\\lib\\site-packages (from ipython->keras-tuner) (0.1.6)\n",
      "Requirement already satisfied: prompt-toolkit!=3.0.0,!=3.0.1,<3.1.0,>=2.0.0 in c:\\programdata\\anaconda3\\lib\\site-packages (from ipython->keras-tuner) (3.0.20)\n",
      "Requirement already satisfied: traitlets>=4.2 in c:\\programdata\\anaconda3\\lib\\site-packages (from ipython->keras-tuner) (5.1.1)\n",
      "Requirement already satisfied: pickleshare in c:\\programdata\\anaconda3\\lib\\site-packages (from ipython->keras-tuner) (0.7.5)\n",
      "Requirement already satisfied: colorama in c:\\programdata\\anaconda3\\lib\\site-packages (from ipython->keras-tuner) (0.4.5)\n",
      "Requirement already satisfied: backcall in c:\\programdata\\anaconda3\\lib\\site-packages (from ipython->keras-tuner) (0.2.0)\n",
      "Requirement already satisfied: decorator in c:\\programdata\\anaconda3\\lib\\site-packages (from ipython->keras-tuner) (5.1.1)\n",
      "Requirement already satisfied: pyparsing!=3.0.5,>=2.0.2 in c:\\programdata\\anaconda3\\lib\\site-packages (from packaging->keras-tuner) (3.0.9)\n",
      "Requirement already satisfied: urllib3<1.27,>=1.21.1 in c:\\programdata\\anaconda3\\lib\\site-packages (from requests->keras-tuner) (1.26.11)\n",
      "Requirement already satisfied: idna<4,>=2.5 in c:\\programdata\\anaconda3\\lib\\site-packages (from requests->keras-tuner) (3.3)\n",
      "Requirement already satisfied: charset-normalizer<3,>=2 in c:\\programdata\\anaconda3\\lib\\site-packages (from requests->keras-tuner) (2.0.4)\n",
      "Requirement already satisfied: certifi>=2017.4.17 in c:\\programdata\\anaconda3\\lib\\site-packages (from requests->keras-tuner) (2022.9.14)\n",
      "Requirement already satisfied: parso<0.9.0,>=0.8.0 in c:\\programdata\\anaconda3\\lib\\site-packages (from jedi>=0.16->ipython->keras-tuner) (0.8.3)\n",
      "Requirement already satisfied: wcwidth in c:\\programdata\\anaconda3\\lib\\site-packages (from prompt-toolkit!=3.0.0,!=3.0.1,<3.1.0,>=2.0.0->ipython->keras-tuner) (0.2.5)\n",
      "Requirement already satisfied: wheel<1.0,>=0.23.0 in c:\\programdata\\anaconda3\\lib\\site-packages (from astunparse>=1.6.0->tensorflow-intel==2.11.0->tensorflow>=2.0->keras-tuner) (0.37.1)\n",
      "Requirement already satisfied: markdown>=2.6.8 in c:\\programdata\\anaconda3\\lib\\site-packages (from tensorboard<2.12,>=2.11->tensorflow-intel==2.11.0->tensorflow>=2.0->keras-tuner) (3.3.4)\n",
      "Requirement already satisfied: google-auth-oauthlib<0.5,>=0.4.1 in c:\\users\\simran sharma\\appdata\\roaming\\python\\python39\\site-packages (from tensorboard<2.12,>=2.11->tensorflow-intel==2.11.0->tensorflow>=2.0->keras-tuner) (0.4.6)\n",
      "Requirement already satisfied: google-auth<3,>=1.6.3 in c:\\users\\simran sharma\\appdata\\roaming\\python\\python39\\site-packages (from tensorboard<2.12,>=2.11->tensorflow-intel==2.11.0->tensorflow>=2.0->keras-tuner) (2.16.0)\n",
      "Requirement already satisfied: werkzeug>=1.0.1 in c:\\programdata\\anaconda3\\lib\\site-packages (from tensorboard<2.12,>=2.11->tensorflow-intel==2.11.0->tensorflow>=2.0->keras-tuner) (2.0.3)\n",
      "Requirement already satisfied: tensorboard-plugin-wit>=1.6.0 in c:\\users\\simran sharma\\appdata\\roaming\\python\\python39\\site-packages (from tensorboard<2.12,>=2.11->tensorflow-intel==2.11.0->tensorflow>=2.0->keras-tuner) (1.8.1)\n",
      "Requirement already satisfied: tensorboard-data-server<0.7.0,>=0.6.0 in c:\\users\\simran sharma\\appdata\\roaming\\python\\python39\\site-packages (from tensorboard<2.12,>=2.11->tensorflow-intel==2.11.0->tensorflow>=2.0->keras-tuner) (0.6.1)\n",
      "Requirement already satisfied: pyasn1-modules>=0.2.1 in c:\\programdata\\anaconda3\\lib\\site-packages (from google-auth<3,>=1.6.3->tensorboard<2.12,>=2.11->tensorflow-intel==2.11.0->tensorflow>=2.0->keras-tuner) (0.2.8)\n",
      "Requirement already satisfied: rsa<5,>=3.1.4 in c:\\users\\simran sharma\\appdata\\roaming\\python\\python39\\site-packages (from google-auth<3,>=1.6.3->tensorboard<2.12,>=2.11->tensorflow-intel==2.11.0->tensorflow>=2.0->keras-tuner) (4.9)\n",
      "Requirement already satisfied: cachetools<6.0,>=2.0.0 in c:\\users\\simran sharma\\appdata\\roaming\\python\\python39\\site-packages (from google-auth<3,>=1.6.3->tensorboard<2.12,>=2.11->tensorflow-intel==2.11.0->tensorflow>=2.0->keras-tuner) (5.3.0)\n",
      "Requirement already satisfied: requests-oauthlib>=0.7.0 in c:\\users\\simran sharma\\appdata\\roaming\\python\\python39\\site-packages (from google-auth-oauthlib<0.5,>=0.4.1->tensorboard<2.12,>=2.11->tensorflow-intel==2.11.0->tensorflow>=2.0->keras-tuner) (1.3.1)\n",
      "Requirement already satisfied: pyasn1<0.5.0,>=0.4.6 in c:\\programdata\\anaconda3\\lib\\site-packages (from pyasn1-modules>=0.2.1->google-auth<3,>=1.6.3->tensorboard<2.12,>=2.11->tensorflow-intel==2.11.0->tensorflow>=2.0->keras-tuner) (0.4.8)\n",
      "Requirement already satisfied: oauthlib>=3.0.0 in c:\\users\\simran sharma\\appdata\\roaming\\python\\python39\\site-packages (from requests-oauthlib>=0.7.0->google-auth-oauthlib<0.5,>=0.4.1->tensorboard<2.12,>=2.11->tensorflow-intel==2.11.0->tensorflow>=2.0->keras-tuner) (3.2.2)\n"
     ]
    }
   ],
   "source": [
    "!pip install keras-tuner --upgrade"
   ]
  },
  {
   "cell_type": "code",
   "execution_count": 26,
   "metadata": {},
   "outputs": [],
   "source": [
    "from tensorflow.keras import optimizers\n",
    "from tensorflow.keras.models import Sequential\n",
    "from tensorflow.keras.layers import Dense\n",
    "from tensorflow.keras.optimizers import Adam\n",
    "def build_model(hp):\n",
    "    model = Sequential()\n",
    "    for i in range(hp.Int('num_layers', 2, 40)):\n",
    "        model.add(Dense(units=hp.Int('units_' + str(i),\n",
    "                                            min_value=32,\n",
    "                                            max_value=512,\n",
    "                                            step=32),\n",
    "                               activation='relu'))\n",
    "    model.add(Dense(1, activation='sigmoid'))\n",
    "    optimizer = hp.Choice('optimizer', ['adam', 'sgd'])\n",
    "    learning_rate = hp.Choice('learning_rate', [0.001, 0.01, 0.1])\n",
    "    if optimizer == 'adam':\n",
    "        optimizer = tf.keras.optimizers.Adam(learning_rate=learning_rate)\n",
    "    else:\n",
    "        optimizer = tf.keras.optimizers.SGD(learning_rate=learning_rate)\n",
    "        \n",
    "    model.compile(loss='binary_crossentropy', optimizer=optimizer, metrics=['accuracy'])\n",
    "    \n",
    "    return model"
   ]
  },
  {
   "cell_type": "code",
   "execution_count": 27,
   "metadata": {},
   "outputs": [
    {
     "name": "stdout",
     "output_type": "stream",
     "text": [
      "INFO:tensorflow:Reloading Tuner from project1\\aps-fault\\tuner0.json\n",
      "INFO:tensorflow:Oracle triggered exit\n"
     ]
    }
   ],
   "source": [
    "tuner=RandomSearch(build_model,objective='val_accuracy',max_trials=5,directory='project1',project_name='aps-fault')\n",
    "tuner.search(X_train,Y_train,validation_data=(X_test,Y_test),epochs=5)"
   ]
  },
  {
   "cell_type": "code",
   "execution_count": 28,
   "metadata": {},
   "outputs": [],
   "source": [
    "best_hps = tuner.get_best_hyperparameters(num_trials=1)[0]"
   ]
  },
  {
   "cell_type": "code",
   "execution_count": 34,
   "metadata": {},
   "outputs": [
    {
     "name": "stdout",
     "output_type": "stream",
     "text": [
      "Epoch 1/200\n",
      "15/15 [==============================] - 3s 37ms/step - loss: 170492.5938 - accuracy: 0.5033 - val_loss: 53606.3984 - val_accuracy: 0.6053\n",
      "Epoch 2/200\n",
      "15/15 [==============================] - 0s 12ms/step - loss: 133739.8750 - accuracy: 0.5055 - val_loss: 115028.9375 - val_accuracy: 0.6053\n",
      "Epoch 3/200\n",
      "15/15 [==============================] - 0s 12ms/step - loss: 72978.3281 - accuracy: 0.5495 - val_loss: 42405.9531 - val_accuracy: 0.6053\n",
      "Epoch 4/200\n",
      "15/15 [==============================] - 0s 12ms/step - loss: 11124.9062 - accuracy: 0.5055 - val_loss: 17509.6582 - val_accuracy: 0.6053\n",
      "Epoch 5/200\n",
      "15/15 [==============================] - 0s 13ms/step - loss: 28881.6191 - accuracy: 0.5231 - val_loss: 21195.9609 - val_accuracy: 0.6053\n",
      "Epoch 6/200\n",
      "15/15 [==============================] - 0s 12ms/step - loss: 13914.1045 - accuracy: 0.5253 - val_loss: 28262.7012 - val_accuracy: 0.3947\n",
      "Epoch 7/200\n",
      "15/15 [==============================] - 0s 12ms/step - loss: 17066.3887 - accuracy: 0.4527 - val_loss: 47510.4023 - val_accuracy: 0.6053\n",
      "Epoch 8/200\n",
      "15/15 [==============================] - 0s 12ms/step - loss: 26988.6641 - accuracy: 0.5099 - val_loss: 9453.6807 - val_accuracy: 0.6053\n",
      "Epoch 9/200\n",
      "15/15 [==============================] - 0s 12ms/step - loss: 16355.2227 - accuracy: 0.4791 - val_loss: 17048.3379 - val_accuracy: 0.3947\n",
      "Epoch 10/200\n",
      "15/15 [==============================] - 0s 12ms/step - loss: 14428.4014 - accuracy: 0.5099 - val_loss: 40565.3164 - val_accuracy: 0.6053\n",
      "Epoch 11/200\n",
      "15/15 [==============================] - 0s 11ms/step - loss: 31913.9355 - accuracy: 0.5604 - val_loss: 30408.9160 - val_accuracy: 0.3947\n",
      "Epoch 12/200\n",
      "15/15 [==============================] - 0s 12ms/step - loss: 22057.4980 - accuracy: 0.5473 - val_loss: 5823.4727 - val_accuracy: 0.3947\n",
      "Epoch 13/200\n",
      "15/15 [==============================] - 0s 12ms/step - loss: 5779.6553 - accuracy: 0.4857 - val_loss: 6922.7856 - val_accuracy: 0.3947\n",
      "Epoch 14/200\n",
      "15/15 [==============================] - 0s 12ms/step - loss: 8156.6265 - accuracy: 0.5143 - val_loss: 223.6557 - val_accuracy: 0.6053\n",
      "Epoch 15/200\n",
      "15/15 [==============================] - 0s 12ms/step - loss: 4013.5862 - accuracy: 0.4923 - val_loss: 15941.6279 - val_accuracy: 0.3947\n",
      "Epoch 16/200\n",
      "15/15 [==============================] - 0s 11ms/step - loss: 17097.0918 - accuracy: 0.5341 - val_loss: 7881.8892 - val_accuracy: 0.6053\n",
      "Epoch 17/200\n",
      "15/15 [==============================] - 0s 12ms/step - loss: 10985.8184 - accuracy: 0.5714 - val_loss: 1127.2512 - val_accuracy: 0.3947\n",
      "Epoch 18/200\n",
      "15/15 [==============================] - 0s 12ms/step - loss: 4229.2363 - accuracy: 0.4857 - val_loss: 5984.3618 - val_accuracy: 0.6053\n",
      "Epoch 19/200\n",
      "15/15 [==============================] - 0s 12ms/step - loss: 5025.8511 - accuracy: 0.4571 - val_loss: 6207.0806 - val_accuracy: 0.6053\n",
      "Epoch 20/200\n",
      "15/15 [==============================] - 0s 12ms/step - loss: 6641.3457 - accuracy: 0.5187 - val_loss: 4554.0386 - val_accuracy: 0.6053\n",
      "Epoch 21/200\n",
      "15/15 [==============================] - 0s 12ms/step - loss: 2046.0227 - accuracy: 0.4879 - val_loss: 394.9937 - val_accuracy: 0.3860\n",
      "Epoch 22/200\n",
      "15/15 [==============================] - 0s 12ms/step - loss: 1430.9653 - accuracy: 0.4615 - val_loss: 4282.6821 - val_accuracy: 0.6053\n",
      "Epoch 23/200\n",
      "15/15 [==============================] - 0s 12ms/step - loss: 4395.6177 - accuracy: 0.5780 - val_loss: 3838.2012 - val_accuracy: 0.3947\n",
      "Epoch 24/200\n",
      "15/15 [==============================] - 0s 12ms/step - loss: 4158.9771 - accuracy: 0.5209 - val_loss: 6422.8911 - val_accuracy: 0.3947\n",
      "Epoch 25/200\n",
      "15/15 [==============================] - 0s 12ms/step - loss: 5812.2378 - accuracy: 0.4901 - val_loss: 327.3117 - val_accuracy: 0.3947\n",
      "Epoch 26/200\n",
      "15/15 [==============================] - 0s 12ms/step - loss: 1265.1276 - accuracy: 0.4857 - val_loss: 1260.3621 - val_accuracy: 0.3947\n",
      "Epoch 27/200\n",
      "15/15 [==============================] - 0s 12ms/step - loss: 2745.7732 - accuracy: 0.5253 - val_loss: 868.8458 - val_accuracy: 0.6053\n",
      "Epoch 28/200\n",
      "15/15 [==============================] - 0s 12ms/step - loss: 2728.4597 - accuracy: 0.5033 - val_loss: 284.9076 - val_accuracy: 0.6053\n",
      "Epoch 29/200\n",
      "15/15 [==============================] - 0s 12ms/step - loss: 451.5732 - accuracy: 0.5560 - val_loss: 2192.7515 - val_accuracy: 0.3947\n",
      "Epoch 30/200\n",
      "15/15 [==============================] - 0s 11ms/step - loss: 1874.7175 - accuracy: 0.5297 - val_loss: 453.6029 - val_accuracy: 0.6053\n",
      "Epoch 31/200\n",
      "15/15 [==============================] - 0s 12ms/step - loss: 134.2745 - accuracy: 0.4659 - val_loss: 569.1603 - val_accuracy: 0.6053\n",
      "Epoch 32/200\n",
      "15/15 [==============================] - 0s 11ms/step - loss: 348.8044 - accuracy: 0.5560 - val_loss: 102.2410 - val_accuracy: 0.4035\n",
      "Epoch 33/200\n",
      "15/15 [==============================] - 0s 12ms/step - loss: 249.4438 - accuracy: 0.5275 - val_loss: 149.5845 - val_accuracy: 0.3772\n",
      "Epoch 34/200\n",
      "15/15 [==============================] - 0s 12ms/step - loss: 136.6727 - accuracy: 0.4659 - val_loss: 533.2065 - val_accuracy: 0.6053\n",
      "Epoch 35/200\n",
      "15/15 [==============================] - 0s 12ms/step - loss: 459.2934 - accuracy: 0.5560 - val_loss: 455.2950 - val_accuracy: 0.6053\n",
      "Epoch 36/200\n",
      "15/15 [==============================] - 0s 12ms/step - loss: 278.2559 - accuracy: 0.4857 - val_loss: 200.0621 - val_accuracy: 0.6053\n",
      "Epoch 37/200\n",
      "15/15 [==============================] - 0s 12ms/step - loss: 81.7738 - accuracy: 0.5451 - val_loss: 140.3701 - val_accuracy: 0.3947\n",
      "Epoch 38/200\n",
      "15/15 [==============================] - 0s 12ms/step - loss: 109.8192 - accuracy: 0.5165 - val_loss: 45.2471 - val_accuracy: 0.6053\n",
      "Epoch 39/200\n",
      "15/15 [==============================] - 0s 12ms/step - loss: 99.7224 - accuracy: 0.5385 - val_loss: 73.9567 - val_accuracy: 0.6053\n",
      "Epoch 40/200\n",
      "15/15 [==============================] - 0s 12ms/step - loss: 206.0546 - accuracy: 0.6176 - val_loss: 30.4894 - val_accuracy: 0.6053\n",
      "Epoch 41/200\n",
      "15/15 [==============================] - 0s 12ms/step - loss: 91.2974 - accuracy: 0.5363 - val_loss: 10.3324 - val_accuracy: 0.6053\n",
      "Epoch 42/200\n",
      "15/15 [==============================] - 0s 12ms/step - loss: 104.6994 - accuracy: 0.5165 - val_loss: 34.0498 - val_accuracy: 0.6053\n",
      "Epoch 43/200\n",
      "15/15 [==============================] - 0s 12ms/step - loss: 62.4146 - accuracy: 0.5077 - val_loss: 67.1463 - val_accuracy: 0.3860\n",
      "Epoch 44/200\n",
      "15/15 [==============================] - 0s 11ms/step - loss: 57.8287 - accuracy: 0.5495 - val_loss: 32.4142 - val_accuracy: 0.4211\n",
      "Epoch 45/200\n",
      "15/15 [==============================] - 0s 11ms/step - loss: 57.8180 - accuracy: 0.4374 - val_loss: 31.6669 - val_accuracy: 0.6053\n",
      "Epoch 46/200\n",
      "15/15 [==============================] - 0s 12ms/step - loss: 13.4518 - accuracy: 0.5407 - val_loss: 8.7187 - val_accuracy: 0.4298\n",
      "Epoch 47/200\n",
      "15/15 [==============================] - 0s 12ms/step - loss: 17.1531 - accuracy: 0.5385 - val_loss: 13.9850 - val_accuracy: 0.6053\n",
      "Epoch 48/200\n",
      "15/15 [==============================] - 0s 12ms/step - loss: 13.7422 - accuracy: 0.5429 - val_loss: 21.6371 - val_accuracy: 0.6053\n",
      "Epoch 49/200\n",
      "15/15 [==============================] - 0s 12ms/step - loss: 39.3658 - accuracy: 0.5934 - val_loss: 28.9984 - val_accuracy: 0.6053\n",
      "Epoch 50/200\n",
      "15/15 [==============================] - 0s 12ms/step - loss: 33.7797 - accuracy: 0.5451 - val_loss: 141.3829 - val_accuracy: 0.6053\n",
      "Epoch 51/200\n",
      "15/15 [==============================] - 0s 12ms/step - loss: 145.1534 - accuracy: 0.5011 - val_loss: 21.0796 - val_accuracy: 0.6053\n",
      "Epoch 52/200\n",
      "15/15 [==============================] - 0s 12ms/step - loss: 85.8619 - accuracy: 0.4725 - val_loss: 177.6792 - val_accuracy: 0.3947\n",
      "Epoch 53/200\n",
      "15/15 [==============================] - 0s 12ms/step - loss: 96.8872 - accuracy: 0.5055 - val_loss: 22.3015 - val_accuracy: 0.6228\n",
      "Epoch 54/200\n",
      "15/15 [==============================] - 0s 12ms/step - loss: 38.2901 - accuracy: 0.4901 - val_loss: 11.7846 - val_accuracy: 0.4298\n",
      "Epoch 55/200\n",
      "15/15 [==============================] - 0s 12ms/step - loss: 85.0108 - accuracy: 0.4593 - val_loss: 74.6631 - val_accuracy: 0.6053\n",
      "Epoch 56/200\n"
     ]
    },
    {
     "name": "stdout",
     "output_type": "stream",
     "text": [
      "15/15 [==============================] - 0s 12ms/step - loss: 58.8530 - accuracy: 0.5451 - val_loss: 124.7045 - val_accuracy: 0.3860\n",
      "Epoch 57/200\n",
      "15/15 [==============================] - 0s 12ms/step - loss: 194.7693 - accuracy: 0.4901 - val_loss: 89.0054 - val_accuracy: 0.3860\n",
      "Epoch 58/200\n",
      "15/15 [==============================] - 0s 12ms/step - loss: 52.6129 - accuracy: 0.4857 - val_loss: 34.3132 - val_accuracy: 0.6053\n",
      "Epoch 59/200\n",
      "15/15 [==============================] - 0s 12ms/step - loss: 25.6233 - accuracy: 0.5604 - val_loss: 112.4009 - val_accuracy: 0.3947\n",
      "Epoch 60/200\n",
      "15/15 [==============================] - 0s 12ms/step - loss: 95.8940 - accuracy: 0.5231 - val_loss: 54.4314 - val_accuracy: 0.4298\n",
      "Epoch 61/200\n",
      "15/15 [==============================] - 0s 12ms/step - loss: 22.4595 - accuracy: 0.5648 - val_loss: 0.8897 - val_accuracy: 0.6053\n",
      "Epoch 62/200\n",
      "15/15 [==============================] - 0s 12ms/step - loss: 0.6611 - accuracy: 0.6330 - val_loss: 0.8839 - val_accuracy: 0.6053\n",
      "Epoch 63/200\n",
      "15/15 [==============================] - 0s 12ms/step - loss: 0.6598 - accuracy: 0.6330 - val_loss: 0.8556 - val_accuracy: 0.6053\n",
      "Epoch 64/200\n",
      "15/15 [==============================] - 0s 12ms/step - loss: 0.6588 - accuracy: 0.6330 - val_loss: 0.8592 - val_accuracy: 0.6053\n",
      "Epoch 65/200\n",
      "15/15 [==============================] - 0s 12ms/step - loss: 0.6580 - accuracy: 0.6330 - val_loss: 0.8747 - val_accuracy: 0.6053\n",
      "Epoch 66/200\n",
      "15/15 [==============================] - 0s 12ms/step - loss: 0.6572 - accuracy: 0.6330 - val_loss: 0.8932 - val_accuracy: 0.6053\n",
      "Epoch 67/200\n",
      "15/15 [==============================] - 0s 12ms/step - loss: 0.6566 - accuracy: 0.6330 - val_loss: 0.9033 - val_accuracy: 0.6053\n",
      "Epoch 68/200\n",
      "15/15 [==============================] - 0s 12ms/step - loss: 0.6560 - accuracy: 0.6330 - val_loss: 0.9167 - val_accuracy: 0.6053\n",
      "Epoch 69/200\n",
      "15/15 [==============================] - 0s 12ms/step - loss: 0.6555 - accuracy: 0.6330 - val_loss: 0.9245 - val_accuracy: 0.6053\n",
      "Epoch 70/200\n",
      "15/15 [==============================] - 0s 12ms/step - loss: 0.6551 - accuracy: 0.6330 - val_loss: 0.9354 - val_accuracy: 0.6053\n",
      "Epoch 71/200\n",
      "15/15 [==============================] - 0s 12ms/step - loss: 0.6550 - accuracy: 0.6330 - val_loss: 0.9409 - val_accuracy: 0.6053\n",
      "Epoch 72/200\n",
      "15/15 [==============================] - 0s 13ms/step - loss: 0.6549 - accuracy: 0.6330 - val_loss: 0.9410 - val_accuracy: 0.6053\n",
      "Epoch 73/200\n",
      "15/15 [==============================] - 0s 12ms/step - loss: 0.6550 - accuracy: 0.6330 - val_loss: 0.9410 - val_accuracy: 0.6053\n",
      "Epoch 74/200\n",
      "15/15 [==============================] - 0s 12ms/step - loss: 0.6547 - accuracy: 0.6352 - val_loss: 0.9397 - val_accuracy: 0.6053\n",
      "Epoch 75/200\n",
      "15/15 [==============================] - 0s 12ms/step - loss: 0.6545 - accuracy: 0.6352 - val_loss: 0.9180 - val_accuracy: 0.6053\n",
      "Epoch 76/200\n",
      "15/15 [==============================] - 0s 12ms/step - loss: 0.6539 - accuracy: 0.6352 - val_loss: 0.9159 - val_accuracy: 0.6053\n",
      "Epoch 77/200\n",
      "15/15 [==============================] - 0s 12ms/step - loss: 0.6534 - accuracy: 0.6352 - val_loss: 0.9199 - val_accuracy: 0.6053\n",
      "Epoch 78/200\n",
      "15/15 [==============================] - 0s 12ms/step - loss: 0.6535 - accuracy: 0.6352 - val_loss: 0.9181 - val_accuracy: 0.6053\n",
      "Epoch 79/200\n",
      "15/15 [==============================] - 0s 12ms/step - loss: 0.6533 - accuracy: 0.6352 - val_loss: 0.9418 - val_accuracy: 0.6140\n",
      "Epoch 80/200\n",
      "15/15 [==============================] - 0s 12ms/step - loss: 0.6533 - accuracy: 0.6352 - val_loss: 0.9366 - val_accuracy: 0.6140\n",
      "Epoch 81/200\n",
      "15/15 [==============================] - 0s 12ms/step - loss: 0.6533 - accuracy: 0.6352 - val_loss: 0.9441 - val_accuracy: 0.6140\n",
      "Epoch 82/200\n",
      "15/15 [==============================] - 0s 12ms/step - loss: 0.6533 - accuracy: 0.6352 - val_loss: 0.9500 - val_accuracy: 0.6140\n",
      "Epoch 83/200\n",
      "15/15 [==============================] - 0s 12ms/step - loss: 0.6533 - accuracy: 0.6352 - val_loss: 0.9525 - val_accuracy: 0.6140\n",
      "Epoch 84/200\n",
      "15/15 [==============================] - 0s 12ms/step - loss: 0.6531 - accuracy: 0.6352 - val_loss: 0.9484 - val_accuracy: 0.6140\n",
      "Epoch 85/200\n",
      "15/15 [==============================] - 0s 12ms/step - loss: 0.6530 - accuracy: 0.6352 - val_loss: 0.9432 - val_accuracy: 0.6140\n",
      "Epoch 86/200\n",
      "15/15 [==============================] - 0s 12ms/step - loss: 0.6532 - accuracy: 0.6352 - val_loss: 0.9418 - val_accuracy: 0.6140\n",
      "Epoch 87/200\n",
      "15/15 [==============================] - 0s 12ms/step - loss: 0.6532 - accuracy: 0.6352 - val_loss: 0.9525 - val_accuracy: 0.6140\n",
      "Epoch 88/200\n",
      "15/15 [==============================] - 0s 12ms/step - loss: 0.6532 - accuracy: 0.6352 - val_loss: 0.9583 - val_accuracy: 0.6140\n",
      "Epoch 89/200\n",
      "15/15 [==============================] - 0s 12ms/step - loss: 0.6532 - accuracy: 0.6352 - val_loss: 0.9577 - val_accuracy: 0.6140\n",
      "Epoch 90/200\n",
      "15/15 [==============================] - 0s 12ms/step - loss: 0.6531 - accuracy: 0.6352 - val_loss: 0.9636 - val_accuracy: 0.6140\n",
      "Epoch 91/200\n",
      "15/15 [==============================] - 0s 12ms/step - loss: 0.6532 - accuracy: 0.6352 - val_loss: 0.9685 - val_accuracy: 0.6140\n",
      "Epoch 92/200\n",
      "15/15 [==============================] - 0s 12ms/step - loss: 0.6532 - accuracy: 0.6352 - val_loss: 0.9689 - val_accuracy: 0.6140\n",
      "Epoch 93/200\n",
      "15/15 [==============================] - 0s 12ms/step - loss: 0.6533 - accuracy: 0.6352 - val_loss: 0.9712 - val_accuracy: 0.6140\n",
      "Epoch 94/200\n",
      "15/15 [==============================] - 0s 12ms/step - loss: 0.6532 - accuracy: 0.6352 - val_loss: 0.9690 - val_accuracy: 0.6140\n",
      "Epoch 95/200\n",
      "15/15 [==============================] - 0s 12ms/step - loss: 0.6533 - accuracy: 0.6352 - val_loss: 0.9679 - val_accuracy: 0.6140\n",
      "Epoch 96/200\n",
      "15/15 [==============================] - 0s 12ms/step - loss: 0.6532 - accuracy: 0.6352 - val_loss: 0.9711 - val_accuracy: 0.6140\n",
      "Epoch 97/200\n",
      "15/15 [==============================] - 0s 12ms/step - loss: 0.6533 - accuracy: 0.6352 - val_loss: 0.9795 - val_accuracy: 0.6140\n",
      "Epoch 98/200\n",
      "15/15 [==============================] - 0s 12ms/step - loss: 0.6534 - accuracy: 0.6352 - val_loss: 0.9828 - val_accuracy: 0.6140\n",
      "Epoch 99/200\n",
      "15/15 [==============================] - 0s 11ms/step - loss: 0.6534 - accuracy: 0.6352 - val_loss: 0.9826 - val_accuracy: 0.6140\n",
      "Epoch 100/200\n",
      "15/15 [==============================] - 0s 12ms/step - loss: 0.6535 - accuracy: 0.6352 - val_loss: 0.9729 - val_accuracy: 0.6140\n",
      "Epoch 101/200\n",
      "15/15 [==============================] - 0s 12ms/step - loss: 0.6532 - accuracy: 0.6352 - val_loss: 0.9742 - val_accuracy: 0.6140\n",
      "Epoch 102/200\n",
      "15/15 [==============================] - 0s 12ms/step - loss: 0.6532 - accuracy: 0.6352 - val_loss: 0.9753 - val_accuracy: 0.6140\n",
      "Epoch 103/200\n",
      "15/15 [==============================] - 0s 12ms/step - loss: 0.6532 - accuracy: 0.6352 - val_loss: 0.9785 - val_accuracy: 0.6140\n",
      "Epoch 104/200\n",
      "15/15 [==============================] - 0s 12ms/step - loss: 0.6532 - accuracy: 0.6352 - val_loss: 0.9783 - val_accuracy: 0.6140\n",
      "Epoch 105/200\n",
      "15/15 [==============================] - 0s 12ms/step - loss: 0.6534 - accuracy: 0.6352 - val_loss: 0.9731 - val_accuracy: 0.6140\n",
      "Epoch 106/200\n",
      "15/15 [==============================] - 0s 12ms/step - loss: 0.6532 - accuracy: 0.6352 - val_loss: 0.9784 - val_accuracy: 0.6140\n",
      "Epoch 107/200\n",
      "15/15 [==============================] - 0s 12ms/step - loss: 0.6533 - accuracy: 0.6352 - val_loss: 0.9843 - val_accuracy: 0.6140\n",
      "Epoch 108/200\n",
      "15/15 [==============================] - 0s 12ms/step - loss: 0.6532 - accuracy: 0.6352 - val_loss: 0.9814 - val_accuracy: 0.6140\n",
      "Epoch 109/200\n",
      "15/15 [==============================] - 0s 12ms/step - loss: 0.6532 - accuracy: 0.6352 - val_loss: 0.9781 - val_accuracy: 0.6140\n",
      "Epoch 110/200\n",
      "15/15 [==============================] - 0s 11ms/step - loss: 0.6532 - accuracy: 0.6352 - val_loss: 0.9812 - val_accuracy: 0.6140\n",
      "Epoch 111/200\n",
      "15/15 [==============================] - 0s 12ms/step - loss: 0.6532 - accuracy: 0.6352 - val_loss: 0.9803 - val_accuracy: 0.6140\n",
      "Epoch 112/200\n",
      "15/15 [==============================] - 0s 12ms/step - loss: 0.6533 - accuracy: 0.6352 - val_loss: 0.9870 - val_accuracy: 0.6140\n",
      "Epoch 113/200\n"
     ]
    },
    {
     "name": "stdout",
     "output_type": "stream",
     "text": [
      "15/15 [==============================] - 0s 12ms/step - loss: 0.6533 - accuracy: 0.6352 - val_loss: 0.9909 - val_accuracy: 0.6140\n",
      "Epoch 114/200\n",
      "15/15 [==============================] - 0s 12ms/step - loss: 0.6533 - accuracy: 0.6352 - val_loss: 0.9903 - val_accuracy: 0.6140\n",
      "Epoch 115/200\n",
      "15/15 [==============================] - 0s 12ms/step - loss: 0.6530 - accuracy: 0.6352 - val_loss: 0.9842 - val_accuracy: 0.6140\n",
      "Epoch 116/200\n",
      "15/15 [==============================] - 0s 12ms/step - loss: 0.6533 - accuracy: 0.6352 - val_loss: 0.9860 - val_accuracy: 0.6140\n",
      "Epoch 117/200\n",
      "15/15 [==============================] - 0s 12ms/step - loss: 0.6531 - accuracy: 0.6352 - val_loss: 0.9812 - val_accuracy: 0.6140\n",
      "Epoch 118/200\n",
      "15/15 [==============================] - 0s 12ms/step - loss: 0.6535 - accuracy: 0.6352 - val_loss: 0.9778 - val_accuracy: 0.6140\n",
      "Epoch 119/200\n",
      "15/15 [==============================] - 0s 12ms/step - loss: 0.6532 - accuracy: 0.6352 - val_loss: 0.9843 - val_accuracy: 0.6140\n",
      "Epoch 120/200\n",
      "15/15 [==============================] - 0s 12ms/step - loss: 0.6532 - accuracy: 0.6352 - val_loss: 0.9896 - val_accuracy: 0.6140\n",
      "Epoch 121/200\n",
      "15/15 [==============================] - 0s 12ms/step - loss: 0.6532 - accuracy: 0.6352 - val_loss: 0.9920 - val_accuracy: 0.6140\n",
      "Epoch 122/200\n",
      "15/15 [==============================] - 0s 12ms/step - loss: 0.6532 - accuracy: 0.6352 - val_loss: 0.9922 - val_accuracy: 0.6140\n",
      "Epoch 123/200\n",
      "15/15 [==============================] - 0s 12ms/step - loss: 0.6532 - accuracy: 0.6352 - val_loss: 0.9946 - val_accuracy: 0.6140\n",
      "Epoch 124/200\n",
      "15/15 [==============================] - 0s 12ms/step - loss: 0.6532 - accuracy: 0.6352 - val_loss: 0.9968 - val_accuracy: 0.6140\n",
      "Epoch 125/200\n",
      "15/15 [==============================] - 0s 12ms/step - loss: 0.6532 - accuracy: 0.6352 - val_loss: 0.9955 - val_accuracy: 0.6140\n",
      "Epoch 126/200\n",
      "15/15 [==============================] - 0s 12ms/step - loss: 0.6532 - accuracy: 0.6352 - val_loss: 0.9942 - val_accuracy: 0.6140\n",
      "Epoch 127/200\n",
      "15/15 [==============================] - 0s 13ms/step - loss: 0.6532 - accuracy: 0.6352 - val_loss: 0.9885 - val_accuracy: 0.6140\n",
      "Epoch 128/200\n",
      "15/15 [==============================] - 0s 12ms/step - loss: 0.6532 - accuracy: 0.6352 - val_loss: 0.9907 - val_accuracy: 0.6140\n",
      "Epoch 129/200\n",
      "15/15 [==============================] - 0s 12ms/step - loss: 0.6532 - accuracy: 0.6352 - val_loss: 0.9947 - val_accuracy: 0.6140\n",
      "Epoch 130/200\n",
      "15/15 [==============================] - 0s 12ms/step - loss: 0.6532 - accuracy: 0.6352 - val_loss: 1.0003 - val_accuracy: 0.6140\n",
      "Epoch 131/200\n",
      "15/15 [==============================] - 0s 11ms/step - loss: 0.6532 - accuracy: 0.6352 - val_loss: 0.9978 - val_accuracy: 0.6140\n",
      "Epoch 132/200\n",
      "15/15 [==============================] - 0s 12ms/step - loss: 0.6532 - accuracy: 0.6352 - val_loss: 0.9962 - val_accuracy: 0.6140\n",
      "Epoch 133/200\n",
      "15/15 [==============================] - 0s 12ms/step - loss: 0.6534 - accuracy: 0.6352 - val_loss: 1.0010 - val_accuracy: 0.6140\n",
      "Epoch 134/200\n",
      "15/15 [==============================] - 0s 11ms/step - loss: 0.6532 - accuracy: 0.6352 - val_loss: 1.0018 - val_accuracy: 0.6140\n",
      "Epoch 135/200\n",
      "15/15 [==============================] - 0s 12ms/step - loss: 0.6532 - accuracy: 0.6352 - val_loss: 1.0041 - val_accuracy: 0.6140\n",
      "Epoch 136/200\n",
      "15/15 [==============================] - 0s 13ms/step - loss: 0.6532 - accuracy: 0.6352 - val_loss: 1.0074 - val_accuracy: 0.6140\n",
      "Epoch 137/200\n",
      "15/15 [==============================] - 0s 12ms/step - loss: 0.6532 - accuracy: 0.6352 - val_loss: 1.0072 - val_accuracy: 0.6140\n",
      "Epoch 138/200\n",
      "15/15 [==============================] - 0s 12ms/step - loss: 0.6533 - accuracy: 0.6352 - val_loss: 1.0024 - val_accuracy: 0.6140\n",
      "Epoch 139/200\n",
      "15/15 [==============================] - 0s 11ms/step - loss: 0.6533 - accuracy: 0.6352 - val_loss: 0.9988 - val_accuracy: 0.6140\n",
      "Epoch 140/200\n",
      "15/15 [==============================] - 0s 12ms/step - loss: 0.6533 - accuracy: 0.6352 - val_loss: 0.9963 - val_accuracy: 0.6140\n",
      "Epoch 141/200\n",
      "15/15 [==============================] - 0s 12ms/step - loss: 0.6532 - accuracy: 0.6352 - val_loss: 0.9990 - val_accuracy: 0.6140\n",
      "Epoch 142/200\n",
      "15/15 [==============================] - 0s 12ms/step - loss: 0.6532 - accuracy: 0.6352 - val_loss: 1.0024 - val_accuracy: 0.6140\n",
      "Epoch 143/200\n",
      "15/15 [==============================] - 0s 12ms/step - loss: 0.6532 - accuracy: 0.6352 - val_loss: 1.0033 - val_accuracy: 0.6140\n",
      "Epoch 144/200\n",
      "15/15 [==============================] - 0s 12ms/step - loss: 0.6532 - accuracy: 0.6352 - val_loss: 1.0027 - val_accuracy: 0.6140\n",
      "Epoch 145/200\n",
      "15/15 [==============================] - 0s 12ms/step - loss: 0.6532 - accuracy: 0.6352 - val_loss: 1.0073 - val_accuracy: 0.6140\n",
      "Epoch 146/200\n",
      "15/15 [==============================] - 0s 12ms/step - loss: 0.6532 - accuracy: 0.6352 - val_loss: 1.0058 - val_accuracy: 0.6140\n",
      "Epoch 147/200\n",
      "15/15 [==============================] - 0s 12ms/step - loss: 0.6532 - accuracy: 0.6352 - val_loss: 1.0107 - val_accuracy: 0.6140\n",
      "Epoch 148/200\n",
      "15/15 [==============================] - 0s 12ms/step - loss: 0.6535 - accuracy: 0.6352 - val_loss: 1.0153 - val_accuracy: 0.6140\n",
      "Epoch 149/200\n",
      "15/15 [==============================] - 0s 12ms/step - loss: 0.6533 - accuracy: 0.6352 - val_loss: 1.0137 - val_accuracy: 0.6140\n",
      "Epoch 150/200\n",
      "15/15 [==============================] - 0s 12ms/step - loss: 0.6533 - accuracy: 0.6352 - val_loss: 1.0100 - val_accuracy: 0.6140\n",
      "Epoch 151/200\n",
      "15/15 [==============================] - 0s 12ms/step - loss: 0.6532 - accuracy: 0.6352 - val_loss: 1.0080 - val_accuracy: 0.6140\n",
      "Epoch 152/200\n",
      "15/15 [==============================] - 0s 12ms/step - loss: 0.6532 - accuracy: 0.6352 - val_loss: 1.0054 - val_accuracy: 0.6140\n",
      "Epoch 153/200\n",
      "15/15 [==============================] - 0s 12ms/step - loss: 0.6532 - accuracy: 0.6352 - val_loss: 1.0022 - val_accuracy: 0.6140\n",
      "Epoch 154/200\n",
      "15/15 [==============================] - 0s 12ms/step - loss: 0.6532 - accuracy: 0.6352 - val_loss: 1.0013 - val_accuracy: 0.6140\n",
      "Epoch 155/200\n",
      "15/15 [==============================] - 0s 11ms/step - loss: 0.6533 - accuracy: 0.6352 - val_loss: 0.9998 - val_accuracy: 0.6140\n",
      "Epoch 156/200\n",
      "15/15 [==============================] - 0s 12ms/step - loss: 0.6532 - accuracy: 0.6352 - val_loss: 0.9985 - val_accuracy: 0.6140\n",
      "Epoch 157/200\n",
      "15/15 [==============================] - 0s 12ms/step - loss: 0.6535 - accuracy: 0.6352 - val_loss: 1.0036 - val_accuracy: 0.6140\n",
      "Epoch 158/200\n",
      "15/15 [==============================] - 0s 12ms/step - loss: 0.6532 - accuracy: 0.6352 - val_loss: 1.0023 - val_accuracy: 0.6140\n",
      "Epoch 159/200\n",
      "15/15 [==============================] - 0s 12ms/step - loss: 0.6532 - accuracy: 0.6352 - val_loss: 0.9980 - val_accuracy: 0.6140\n",
      "Epoch 160/200\n",
      "15/15 [==============================] - 0s 12ms/step - loss: 0.6533 - accuracy: 0.6352 - val_loss: 0.9975 - val_accuracy: 0.6140\n",
      "Epoch 161/200\n",
      "15/15 [==============================] - 0s 12ms/step - loss: 0.6532 - accuracy: 0.6352 - val_loss: 0.9994 - val_accuracy: 0.6140\n",
      "Epoch 162/200\n",
      "15/15 [==============================] - 0s 13ms/step - loss: 0.6533 - accuracy: 0.6352 - val_loss: 1.0035 - val_accuracy: 0.6140\n",
      "Epoch 163/200\n",
      "15/15 [==============================] - 0s 12ms/step - loss: 0.6533 - accuracy: 0.6352 - val_loss: 1.0084 - val_accuracy: 0.6140\n",
      "Epoch 164/200\n",
      "15/15 [==============================] - 0s 12ms/step - loss: 0.6532 - accuracy: 0.6352 - val_loss: 1.0050 - val_accuracy: 0.6140\n",
      "Epoch 165/200\n",
      "15/15 [==============================] - 0s 12ms/step - loss: 0.6532 - accuracy: 0.6352 - val_loss: 1.0063 - val_accuracy: 0.6140\n",
      "Epoch 166/200\n",
      "15/15 [==============================] - 0s 12ms/step - loss: 0.6532 - accuracy: 0.6352 - val_loss: 1.0074 - val_accuracy: 0.6140\n",
      "Epoch 167/200\n",
      "15/15 [==============================] - 0s 12ms/step - loss: 0.6534 - accuracy: 0.6352 - val_loss: 1.0129 - val_accuracy: 0.6140\n",
      "Epoch 168/200\n",
      "15/15 [==============================] - 0s 12ms/step - loss: 0.6532 - accuracy: 0.6352 - val_loss: 1.0158 - val_accuracy: 0.6140\n",
      "Epoch 169/200\n",
      "15/15 [==============================] - 0s 12ms/step - loss: 0.6534 - accuracy: 0.6352 - val_loss: 1.0119 - val_accuracy: 0.6140\n"
     ]
    },
    {
     "name": "stdout",
     "output_type": "stream",
     "text": [
      "Epoch 170/200\n",
      "15/15 [==============================] - 0s 12ms/step - loss: 0.6532 - accuracy: 0.6352 - val_loss: 1.0122 - val_accuracy: 0.6140\n",
      "Epoch 171/200\n",
      "15/15 [==============================] - 0s 13ms/step - loss: 0.6532 - accuracy: 0.6352 - val_loss: 1.0100 - val_accuracy: 0.6140\n",
      "Epoch 172/200\n",
      "15/15 [==============================] - 0s 12ms/step - loss: 0.6532 - accuracy: 0.6352 - val_loss: 1.0117 - val_accuracy: 0.6140\n",
      "Epoch 173/200\n",
      "15/15 [==============================] - 0s 13ms/step - loss: 0.6532 - accuracy: 0.6352 - val_loss: 1.0099 - val_accuracy: 0.6140\n",
      "Epoch 174/200\n",
      "15/15 [==============================] - 0s 12ms/step - loss: 0.6532 - accuracy: 0.6352 - val_loss: 1.0113 - val_accuracy: 0.6140\n",
      "Epoch 175/200\n",
      "15/15 [==============================] - 0s 11ms/step - loss: 0.6533 - accuracy: 0.6352 - val_loss: 1.0154 - val_accuracy: 0.6140\n",
      "Epoch 176/200\n",
      "15/15 [==============================] - 0s 13ms/step - loss: 0.6532 - accuracy: 0.6352 - val_loss: 1.0144 - val_accuracy: 0.6140\n",
      "Epoch 177/200\n",
      "15/15 [==============================] - 0s 13ms/step - loss: 0.6533 - accuracy: 0.6352 - val_loss: 1.0170 - val_accuracy: 0.6140\n",
      "Epoch 178/200\n",
      "15/15 [==============================] - 0s 13ms/step - loss: 0.6532 - accuracy: 0.6352 - val_loss: 1.0156 - val_accuracy: 0.6140\n",
      "Epoch 179/200\n",
      "15/15 [==============================] - 0s 12ms/step - loss: 0.6533 - accuracy: 0.6352 - val_loss: 1.0167 - val_accuracy: 0.6140\n",
      "Epoch 180/200\n",
      "15/15 [==============================] - 0s 13ms/step - loss: 0.6535 - accuracy: 0.6352 - val_loss: 1.0154 - val_accuracy: 0.6140\n",
      "Epoch 181/200\n",
      "15/15 [==============================] - 0s 13ms/step - loss: 0.6534 - accuracy: 0.6352 - val_loss: 1.0217 - val_accuracy: 0.6140\n",
      "Epoch 182/200\n",
      "15/15 [==============================] - 0s 13ms/step - loss: 0.6536 - accuracy: 0.6352 - val_loss: 1.0154 - val_accuracy: 0.6140\n",
      "Epoch 183/200\n",
      "15/15 [==============================] - 0s 13ms/step - loss: 0.6532 - accuracy: 0.6352 - val_loss: 1.0170 - val_accuracy: 0.6140\n",
      "Epoch 184/200\n",
      "15/15 [==============================] - 0s 13ms/step - loss: 0.6533 - accuracy: 0.6352 - val_loss: 1.0196 - val_accuracy: 0.6140\n",
      "Epoch 185/200\n",
      "15/15 [==============================] - 0s 13ms/step - loss: 0.6533 - accuracy: 0.6352 - val_loss: 1.0183 - val_accuracy: 0.6140\n",
      "Epoch 186/200\n",
      "15/15 [==============================] - 0s 12ms/step - loss: 0.6531 - accuracy: 0.6352 - val_loss: 1.0126 - val_accuracy: 0.6140\n",
      "Epoch 187/200\n",
      "15/15 [==============================] - 0s 13ms/step - loss: 0.6533 - accuracy: 0.6352 - val_loss: 1.0093 - val_accuracy: 0.6140\n",
      "Epoch 188/200\n",
      "15/15 [==============================] - 0s 12ms/step - loss: 0.6532 - accuracy: 0.6352 - val_loss: 1.0092 - val_accuracy: 0.6140\n",
      "Epoch 189/200\n",
      "15/15 [==============================] - 0s 13ms/step - loss: 0.6533 - accuracy: 0.6352 - val_loss: 1.0106 - val_accuracy: 0.6140\n",
      "Epoch 190/200\n",
      "15/15 [==============================] - 0s 13ms/step - loss: 0.6532 - accuracy: 0.6352 - val_loss: 1.0123 - val_accuracy: 0.6140\n",
      "Epoch 191/200\n",
      "15/15 [==============================] - 0s 13ms/step - loss: 0.6532 - accuracy: 0.6352 - val_loss: 1.0149 - val_accuracy: 0.6140\n",
      "Epoch 192/200\n",
      "15/15 [==============================] - 0s 12ms/step - loss: 0.6532 - accuracy: 0.6352 - val_loss: 1.0158 - val_accuracy: 0.6140\n",
      "Epoch 193/200\n",
      "15/15 [==============================] - 0s 12ms/step - loss: 0.6534 - accuracy: 0.6352 - val_loss: 1.0127 - val_accuracy: 0.6140\n",
      "Epoch 194/200\n",
      "15/15 [==============================] - 0s 12ms/step - loss: 0.6532 - accuracy: 0.6352 - val_loss: 1.0175 - val_accuracy: 0.6140\n",
      "Epoch 195/200\n",
      "15/15 [==============================] - 0s 12ms/step - loss: 0.6532 - accuracy: 0.6352 - val_loss: 1.0150 - val_accuracy: 0.6140\n",
      "Epoch 196/200\n",
      "15/15 [==============================] - 0s 13ms/step - loss: 0.6539 - accuracy: 0.6352 - val_loss: 1.0184 - val_accuracy: 0.6140\n",
      "Epoch 197/200\n",
      "15/15 [==============================] - 0s 12ms/step - loss: 0.6531 - accuracy: 0.6352 - val_loss: 1.0141 - val_accuracy: 0.6140\n",
      "Epoch 198/200\n",
      "15/15 [==============================] - 0s 13ms/step - loss: 0.6532 - accuracy: 0.6352 - val_loss: 1.0155 - val_accuracy: 0.6140\n",
      "Epoch 199/200\n",
      "15/15 [==============================] - 0s 12ms/step - loss: 0.6532 - accuracy: 0.6352 - val_loss: 1.0174 - val_accuracy: 0.6140\n",
      "Epoch 200/200\n",
      "15/15 [==============================] - 0s 12ms/step - loss: 0.6534 - accuracy: 0.6352 - val_loss: 1.0202 - val_accuracy: 0.6140\n",
      "4/4 [==============================] - 0s 4ms/step\n"
     ]
    },
    {
     "data": {
      "image/png": "[encoded data removed]",
      "text/plain": [
       "<Figure size 640x480 with 1 Axes>"
      ]
     },
     "metadata": {},
     "output_type": "display_data"
    }
   ],
   "source": [
    "model = build_model(best_hps)\n",
    "\n",
    "# Train the model on the full dataset\n",
    "history = model.fit(X_train, Y_train, epochs=200, validation_data=(X_test, Y_test))\n",
    "\n",
    "# Make predictions on new data\n",
    "y_pred = model.predict(X_test)\n",
    "\n",
    "# Plot validation and test accuracy over epochs\n",
    "plt.plot(history.history['val_accuracy'], label='Validation Accuracy')\n",
    "plt.plot(history.history['accuracy'], label='Training Accuracy')\n",
    "plt.xlabel('Epochs')\n",
    "plt.ylabel('Accuracy')\n",
    "plt.legend()\n",
    "plt.show()"
   ]
  },
  {
   "cell_type": "markdown",
   "metadata": {
    "id": "QZCz8JJ98guH"
   },
   "source": [
    "Visualizing accuracy and loss"
   ]
  },
  {
   "cell_type": "code",
   "execution_count": 35,
   "metadata": {
    "colab": {
     "base_uri": "https://localhost:8080/",
     "height": 312
    },
    "id": "ZrgfNlbk9EZK",
    "outputId": "fd085a2b-1a9a-46b2-a03a-7713d31a0e63"
   },
   "outputs": [
    {
     "data": {
      "image/png": "[encoded data removed]",
      "text/plain": [
       "<Figure size 640x480 with 1 Axes>"
      ]
     },
     "metadata": {},
     "output_type": "display_data"
    }
   ],
   "source": [
    "plt.plot(history.history['val_loss'], label='Validation Loss')\n",
    "plt.plot(history.history['loss'], label='Training Loss')\n",
    "plt.title('Loss')\n",
    "plt.xlabel('Epoch')\n",
    "plt.ylabel('Loss')\n",
    "plt.legend()\n",
    "plt.show()"
   ]
  },
  {
   "cell_type": "markdown",
   "metadata": {
    "id": "ycbLKSDl-SJX"
   },
   "source": [
    "Accuracy of the model on test data"
   ]
  },
  {
   "cell_type": "code",
   "execution_count": 36,
   "metadata": {
    "colab": {
     "base_uri": "https://localhost:8080/"
    },
    "id": "D3RgBzQF-B8W",
    "outputId": "a4b9d5b1-c9d7-41fe-f0f2-9ee230b4b67b"
   },
   "outputs": [
    {
     "name": "stdout",
     "output_type": "stream",
     "text": [
      "4/4 [==============================] - 0s 4ms/step - loss: 0.6762 - accuracy: 0.6053\n",
      "0.6052631735801697\n"
     ]
    }
   ],
   "source": [
    "loss, accuracy = model.evaluate(X_test_std, Y_test)\n",
    "print(accuracy)"
   ]
  },
  {
   "cell_type": "code",
   "execution_count": 37,
   "metadata": {
    "colab": {
     "base_uri": "https://localhost:8080/"
    },
    "id": "OWyJPf9O-oJT",
    "outputId": "b64b80a8-5327-4e6f-96f2-bd2b78fa6a0f"
   },
   "outputs": [
    {
     "name": "stdout",
     "output_type": "stream",
     "text": [
      "(114, 31)\n",
      "[-0.23949961 -0.04462793 -1.41612656 -0.05903514 -0.16234067  2.0202457\n",
      " -0.11323672  0.18500609  0.47102419  0.63336386  0.26335737  0.53209124\n",
      "  2.62763999  0.62351167  0.11405261  1.01246781  0.41126289  0.63848593\n",
      "  2.88971815 -0.41675911  0.74270853 -0.32983699 -1.67435595 -0.36854552\n",
      " -0.38767294  0.32655007 -0.74858917 -0.54689089 -0.18278004 -1.23064515\n",
      " -0.6268286 ]\n"
     ]
    }
   ],
   "source": [
    "print(X_test_std.shape)\n",
    "print(X_test_std[0])"
   ]
  },
  {
   "cell_type": "code",
   "execution_count": 38,
   "metadata": {
    "id": "XWAZk1SK-3qf"
   },
   "outputs": [
    {
     "name": "stdout",
     "output_type": "stream",
     "text": [
      "4/4 [==============================] - 0s 3ms/step\n"
     ]
    }
   ],
   "source": [
    "Y_pred = model.predict(X_test_std)"
   ]
  },
  {
   "cell_type": "code",
   "execution_count": 39,
   "metadata": {
    "colab": {
     "base_uri": "https://localhost:8080/"
    },
    "id": "umNl8qUX_GeO",
    "outputId": "96a03dc1-a768-4d5e-9fbf-0b59abf44751"
   },
   "outputs": [
    {
     "name": "stdout",
     "output_type": "stream",
     "text": [
      "(114, 1)\n",
      "[0.36193618]\n"
     ]
    }
   ],
   "source": [
    "print(Y_pred.shape)\n",
    "print(Y_pred[0])"
   ]
  },
  {
   "cell_type": "code",
   "execution_count": 40,
   "metadata": {
    "colab": {
     "base_uri": "https://localhost:8080/"
    },
    "id": "0lsaXHZr_mTT",
    "outputId": "f02bd988-b222-435f-8524-c2e4cd5caade"
   },
   "outputs": [
    {
     "name": "stdout",
     "output_type": "stream",
     "text": [
      "[[-0.23949961 -0.04462793 -1.41612656 ... -0.18278004 -1.23064515\n",
      "  -0.6268286 ]\n",
      " [-0.2467237   0.24583601 -0.06219797 ...  0.54129749  0.11047691\n",
      "   0.0483572 ]\n",
      " [-0.17438876 -1.26115925 -0.29051645 ... -1.35138617  0.269338\n",
      "  -0.28231213]\n",
      " ...\n",
      " [-0.24002111  0.72709489  0.45836817 ...  1.46701686  1.19909344\n",
      "   0.65319961]\n",
      " [-0.2400006   0.25437907  1.33054477 ... -1.29043534 -2.22561725\n",
      "  -1.59557344]\n",
      " [-0.23978737  0.84100232 -0.06676434 ...  2.15137705  0.35629355\n",
      "   0.37459546]]\n"
     ]
    }
   ],
   "source": [
    "print(X_test_std)"
   ]
  },
  {
   "cell_type": "code",
   "execution_count": 41,
   "metadata": {
    "colab": {
     "base_uri": "https://localhost:8080/"
    },
    "id": "cmaeRBc7_M59",
    "outputId": "61de1d7b-54d9-48e1-f2bb-e37fcdf3a211"
   },
   "outputs": [
    {
     "name": "stdout",
     "output_type": "stream",
     "text": [
      "[[0.36193618]\n",
      " [0.36410174]\n",
      " [0.3685827 ]\n",
      " [0.35953715]\n",
      " [0.36357725]\n",
      " [0.36662993]\n",
      " [0.36556646]\n",
      " [0.37138838]\n",
      " [0.3671325 ]\n",
      " [0.3738893 ]\n",
      " [0.36344865]\n",
      " [0.3626679 ]\n",
      " [0.35972464]\n",
      " [0.36479   ]\n",
      " [0.36724997]\n",
      " [0.36583686]\n",
      " [0.3690993 ]\n",
      " [0.3661182 ]\n",
      " [0.36924642]\n",
      " [0.36331695]\n",
      " [0.3671985 ]\n",
      " [0.36810365]\n",
      " [0.37201977]\n",
      " [0.37267816]\n",
      " [0.3649246 ]\n",
      " [0.36446285]\n",
      " [0.36678323]\n",
      " [0.3667958 ]\n",
      " [0.36607042]\n",
      " [0.36716047]\n",
      " [0.3779622 ]\n",
      " [0.36713997]\n",
      " [0.37056178]\n",
      " [0.36949855]\n",
      " [0.363961  ]\n",
      " [0.3642725 ]\n",
      " [0.3760206 ]\n",
      " [0.3671289 ]\n",
      " [0.3668813 ]\n",
      " [0.3649606 ]\n",
      " [0.36089888]\n",
      " [0.36291447]\n",
      " [0.36647958]\n",
      " [0.36331454]\n",
      " [0.36469418]\n",
      " [0.36440396]\n",
      " [0.3653995 ]\n",
      " [0.36483642]\n",
      " [0.3703972 ]\n",
      " [0.36244264]\n",
      " [0.37942925]\n",
      " [0.36451933]\n",
      " [0.36293322]\n",
      " [0.36834833]\n",
      " [0.36614385]\n",
      " [0.36468783]\n",
      " [0.36521915]\n",
      " [0.36545366]\n",
      " [0.35832053]\n",
      " [0.36464846]\n",
      " [0.36407086]\n",
      " [0.36840615]\n",
      " [0.3689717 ]\n",
      " [0.3603515 ]\n",
      " [0.3637201 ]\n",
      " [0.36699563]\n",
      " [0.36271805]\n",
      " [0.36499575]\n",
      " [0.37064376]\n",
      " [0.36745325]\n",
      " [0.36505485]\n",
      " [0.3622426 ]\n",
      " [0.36582023]\n",
      " [0.36244312]\n",
      " [0.3680412 ]\n",
      " [0.3644199 ]\n",
      " [0.36262798]\n",
      " [0.37110347]\n",
      " [0.3663338 ]\n",
      " [0.36294755]\n",
      " [0.36473462]\n",
      " [0.3634299 ]\n",
      " [0.35870826]\n",
      " [0.3657016 ]\n",
      " [0.36609864]\n",
      " [0.3692491 ]\n",
      " [0.37124687]\n",
      " [0.36581337]\n",
      " [0.36414722]\n",
      " [0.363583  ]\n",
      " [0.36634147]\n",
      " [0.3716481 ]\n",
      " [0.36600712]\n",
      " [0.36386827]\n",
      " [0.36182094]\n",
      " [0.36523634]\n",
      " [0.36292857]\n",
      " [0.35887465]\n",
      " [0.3659701 ]\n",
      " [0.37182188]\n",
      " [0.37576026]\n",
      " [0.36298466]\n",
      " [0.36710095]\n",
      " [0.36451927]\n",
      " [0.36588037]\n",
      " [0.36526546]\n",
      " [0.36444408]\n",
      " [0.36202872]\n",
      " [0.3621752 ]\n",
      " [0.3632383 ]\n",
      " [0.35543928]\n",
      " [0.35996777]\n",
      " [0.363091  ]\n",
      " [0.36225408]]\n"
     ]
    }
   ],
   "source": [
    "print(Y_pred)"
   ]
  },
  {
   "cell_type": "markdown",
   "metadata": {
    "id": "dx5ZqN_W_6U-"
   },
   "source": [
    "model.predict() gives the prediction probability of each class for that data point"
   ]
  },
  {
   "cell_type": "code",
   "execution_count": 42,
   "metadata": {
    "colab": {
     "base_uri": "https://localhost:8080/"
    },
    "id": "pPF0aJ0sAbML",
    "outputId": "bf537283-6540-4140-9862-50d8a6a52634"
   },
   "outputs": [
    {
     "name": "stdout",
     "output_type": "stream",
     "text": [
      "[0.25, 0.56]\n",
      "1\n"
     ]
    }
   ],
   "source": [
    "#  argmax function\n",
    "\n",
    "my_list = [0.25, 0.56]\n",
    "\n",
    "index_of_max_value = np.argmax(my_list)\n",
    "print(my_list)\n",
    "print(index_of_max_value)"
   ]
  },
  {
   "cell_type": "code",
   "execution_count": 43,
   "metadata": {
    "colab": {
     "base_uri": "https://localhost:8080/"
    },
    "id": "67EUrfSf_rZi",
    "outputId": "1b0e9ad6-04fb-4577-b940-9626b87b7d1f"
   },
   "outputs": [
    {
     "name": "stdout",
     "output_type": "stream",
     "text": [
      "[0, 0, 0, 0, 0, 0, 0, 0, 0, 0, 0, 0, 0, 0, 0, 0, 0, 0, 0, 0, 0, 0, 0, 0, 0, 0, 0, 0, 0, 0, 0, 0, 0, 0, 0, 0, 0, 0, 0, 0, 0, 0, 0, 0, 0, 0, 0, 0, 0, 0, 0, 0, 0, 0, 0, 0, 0, 0, 0, 0, 0, 0, 0, 0, 0, 0, 0, 0, 0, 0, 0, 0, 0, 0, 0, 0, 0, 0, 0, 0, 0, 0, 0, 0, 0, 0, 0, 0, 0, 0, 0, 0, 0, 0, 0, 0, 0, 0, 0, 0, 0, 0, 0, 0, 0, 0, 0, 0, 0, 0, 0, 0, 0, 0]\n"
     ]
    }
   ],
   "source": [
    "# converting the prediction probability to class labels\n",
    "\n",
    "Y_pred_labels = [np.argmax(i) for i in Y_pred]\n",
    "print(Y_pred_labels)"
   ]
  },
  {
   "cell_type": "markdown",
   "metadata": {
    "id": "PBvyhDoEBVk8"
   },
   "source": [
    "**Building the predictive system**"
   ]
  },
  {
   "cell_type": "code",
   "execution_count": 44,
   "metadata": {
    "colab": {
     "base_uri": "https://localhost:8080/"
    },
    "id": "rXQi6eStBJxb",
    "outputId": "3ea1b205-dfef-4613-d2e2-e569cced7254"
   },
   "outputs": [
    {
     "name": "stdout",
     "output_type": "stream",
     "text": [
      "1/1 [==============================] - 0s 41ms/step\n",
      "[[0.3666524]]\n",
      "[0]\n",
      "The tumor is Malignant\n"
     ]
    },
    {
     "name": "stderr",
     "output_type": "stream",
     "text": [
      "C:\\ProgramData\\Anaconda3\\lib\\site-packages\\sklearn\\base.py:450: UserWarning: X does not have valid feature names, but StandardScaler was fitted with feature names\n",
      "  warnings.warn(\n"
     ]
    }
   ],
   "source": [
    "input_data = (11.76,21.6,21.7,4.72,427.9,0.08637,0.04966,0.01657,0.01115,0.1495,0.05888,0.4062,1.21,2.635,28.47,0.005857,0.009758,0.01168,0.007445,0.02406,0.001769,12.98,25.72,82.98,516.5,0.1085,0.08615,0.05523,0.03715,0.2433,0.06563)\n",
    "\n",
    "# change the input_data to a numpy array\n",
    "input_data_as_numpy_array = np.asarray(input_data)\n",
    "\n",
    "# reshape the numpy array as we are predicting for one data point\n",
    "input_data_reshaped = input_data_as_numpy_array.reshape(1,-1)\n",
    "\n",
    "# standardizing the input data\n",
    "input_data_std = scaler.transform(input_data_reshaped)\n",
    "\n",
    "prediction = model.predict(input_data_std)\n",
    "print(prediction)\n",
    "\n",
    "prediction_label = [np.argmax(prediction)]\n",
    "print(prediction_label)\n",
    "\n",
    "if(prediction_label[0] == 0):\n",
    "  print('The tumor is Malignant')\n",
    "\n",
    "else:\n",
    "  print('The tumor is Benign')"
   ]
  }
 ],
 "metadata": {
  "colab": {
   "provenance": []
  },
  "kernelspec": {
   "display_name": "Python 3 (ipykernel)",
   "language": "python",
   "name": "python3"
  },
  "language_info": {
   "codemirror_mode": {
    "name": "ipython",
    "version": 3
   },
   "file_extension": ".py",
   "mimetype": "text/x-python",
   "name": "python",
   "nbconvert_exporter": "python",
   "pygments_lexer": "ipython3",
   "version": "3.9.13"
  }
 },
 "nbformat": 4,
 "nbformat_minor": 1
}
